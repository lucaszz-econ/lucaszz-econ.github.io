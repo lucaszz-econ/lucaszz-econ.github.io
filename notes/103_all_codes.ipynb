{
 "cells": [
  {
   "cell_type": "markdown",
   "metadata": {},
   "source": [
    "<p style=\"font-size:24pt;\">\n",
    "Econ 103: Introduction to Econometrics\n",
    "</p>\n",
    "\n",
    "Author: Lucas Zhang.\n",
    "\n",
    "*Disclaimer: This notebook is intended as a template for students to get started on empirical exercises in the introductory econometrics class. The examples given will be using data from published research papers. As Python is an open-source all-purpose coding language, there are many different packages that serve the same purpose, and those contained in this notebook represent just one possibility. All the errors are mine.*"
   ]
  },
  {
   "cell_type": "markdown",
   "metadata": {},
   "source": [
    "**Some Q&A's**\n",
    "\n",
    "- **What is Jupyter Notebook?**\n",
    "\n",
    "    - In short, for the purpose of this class, Jupyter Notebook is a user-interface (UI) that compiles the Python codes and presents the results in an user frendly and integrated manner.\n",
    "\n",
    "- **Do I need to have prior experience with Python in order to do well in this class?**\n",
    "\n",
    "    - Absolutely not. We will start from fresh and *keeps the coding part strictly to econometric analysis only*. \n",
    "    \n",
    "    - That being said, you are not really learning how to code in Python in the traditional sense. We will simply explore one of the many possibilities of using Python.\n",
    "\n",
    "    - If you want to learn proper coding in Python, you should take a dedicated course on that (or take advantage of many popular online courses/programs such as *DataCamp*). \n",
    "\n",
    "- **Is Python a commonly used language? What if I have to switch to a different statistical software such as R?**\n",
    "\n",
    "    - Python is a fast growing and leading choice of coding language in statistical modeling and machine learning. For most part, the transition between R and Python should be very smooth (you *should* be able to pick up R in the matter of hours if you know Python already).\n",
    "\n"
   ]
  },
  {
   "cell_type": "markdown",
   "metadata": {},
   "source": [
    "# A Starting Point\n",
    "\n",
    "As an open-source language, Python has a huge number of packages dedicated to  written by professionals and amateurs. This is both a blessing and curse. How do we tell which ones are reliable or not? Luckily for us most of the packages we will be using are well-maintained and have stable releases, i.e. they have been \"peer-reviewed\" constantly updated to keep up with users' demands.\n",
    "\n",
    "- Comments: Most of the packages are pre-installed in the cloud version of Jupyter Notebooks maintained by UCLA. If you have your own copy of Jupyter, check out the handouts on course website on how to install additional packages using Anaconda controller.\n",
    "\n",
    "**As you will see, the first thing we do will be import all the packages we will be using:**"
   ]
  },
  {
   "cell_type": "code",
   "execution_count": 2,
   "metadata": {},
   "outputs": [],
   "source": [
    "import pandas as pd\n",
    "import numpy as np \n",
    "import statsmodels.api as sm\n",
    "import statsmodels.formula.api as smf\n",
    "import matplotlib.pyplot as plt \n",
    "import seaborn as sns \n",
    "import scipy as sp"
   ]
  },
  {
   "cell_type": "markdown",
   "metadata": {},
   "source": [
    "**Comments**: In the above code cell, we import some most popular packages. Note that we didn't simply just import them, we also gave them easy \"nicknames\". You will see that these nicknames will make the coding considerably simpler."
   ]
  },
  {
   "cell_type": "markdown",
   "metadata": {},
   "source": [
    "**Comments**: Each of the packages serves its own purpose:\n",
    "  - pandas: for manipulating data\n",
    "  - numpy: for computing\n",
    "  - matplotlib: for plotting\n",
    "  - seaborn: for prettier plots\n",
    "  - statsmodels: for statistical formulas\n",
    "  - scipy: for scientific computing\n",
    "  \n",
    "For details, search them on Google (or your own choice of search engine) and they have their own dedidated pages."
   ]
  },
  {
   "cell_type": "markdown",
   "metadata": {},
   "source": [
    "# Load Data\n",
    "\n",
    "Without further introduction, you need to load your data into the enviroment. If you have already uploaded the datasets to the jupyter, you can simply call them out using the following code:"
   ]
  },
  {
   "cell_type": "code",
   "execution_count": 3,
   "metadata": {},
   "outputs": [],
   "source": [
    "df =  pd.read_csv('twin_cleaned.csv')"
   ]
  },
  {
   "cell_type": "markdown",
   "metadata": {},
   "source": [
    "**Comments**: \n",
    "\n",
    "  - In the above code, `pd` is the nickname we gave to the package `pandas`, and `read_csv()` is a function that is included in the package `pandas`. \n",
    "  \n",
    "  - The code `pd.read_csv()` simply calls out the `read_csv()` function from pandas. \n",
    "  \n",
    "  - Inside the function `read_csv('data.csv')` is the actual data `data.csv` that was uploaded to the jupyter beforehand. the single quotation marks `'data.csv'` specifies the path/name of the data and makes it a \"string\", which is acceptable to the function `read_csv()`. \n",
    "  \n",
    "  - If your data comes in other format, for example the excel formats \"xls\" or \"xlsx\", you should use `pd.read_excel('name of your data')`.\n",
    "  \n",
    "  - The code `df =` assigns the name \"df\" to the loaded dataset `data.csv`, and the name `df` will be used throughout to call this dataset"
   ]
  },
  {
   "cell_type": "markdown",
   "metadata": {},
   "source": [
    "# Take a Look at the Data\n",
    "\n",
    "Often times, especially when the datasets are large, you won't be able to know what the data looks like in advance. As a good habit, you want to take a look at the datasets once you have loaded it to the system."
   ]
  },
  {
   "cell_type": "code",
   "execution_count": 4,
   "metadata": {},
   "outputs": [
    {
     "data": {
      "text/html": [
       "<div>\n",
       "<style scoped>\n",
       "    .dataframe tbody tr th:only-of-type {\n",
       "        vertical-align: middle;\n",
       "    }\n",
       "\n",
       "    .dataframe tbody tr th {\n",
       "        vertical-align: top;\n",
       "    }\n",
       "\n",
       "    .dataframe thead th {\n",
       "        text-align: right;\n",
       "    }\n",
       "</style>\n",
       "<table border=\"1\" class=\"dataframe\">\n",
       "  <thead>\n",
       "    <tr style=\"text-align: right;\">\n",
       "      <th></th>\n",
       "      <th>first</th>\n",
       "      <th>educ</th>\n",
       "      <th>educt</th>\n",
       "      <th>hrwage</th>\n",
       "      <th>lwage</th>\n",
       "      <th>age</th>\n",
       "      <th>white</th>\n",
       "      <th>female</th>\n",
       "      <th>educt_t</th>\n",
       "      <th>age2</th>\n",
       "      <th>dlwage</th>\n",
       "      <th>deduc</th>\n",
       "      <th>deduct</th>\n",
       "    </tr>\n",
       "  </thead>\n",
       "  <tbody>\n",
       "    <tr>\n",
       "      <th>0</th>\n",
       "      <td>1.0</td>\n",
       "      <td>16.0</td>\n",
       "      <td>16.0</td>\n",
       "      <td>11.935573</td>\n",
       "      <td>2.479523</td>\n",
       "      <td>33.251190</td>\n",
       "      <td>1</td>\n",
       "      <td>1</td>\n",
       "      <td>16.0</td>\n",
       "      <td>1105.64160</td>\n",
       "      <td>0.259346</td>\n",
       "      <td>0.0</td>\n",
       "      <td>0.0</td>\n",
       "    </tr>\n",
       "    <tr>\n",
       "      <th>1</th>\n",
       "      <td>NaN</td>\n",
       "      <td>16.0</td>\n",
       "      <td>16.0</td>\n",
       "      <td>9.208958</td>\n",
       "      <td>2.220177</td>\n",
       "      <td>33.251190</td>\n",
       "      <td>1</td>\n",
       "      <td>1</td>\n",
       "      <td>16.0</td>\n",
       "      <td>1105.64160</td>\n",
       "      <td>-0.259346</td>\n",
       "      <td>0.0</td>\n",
       "      <td>0.0</td>\n",
       "    </tr>\n",
       "    <tr>\n",
       "      <th>2</th>\n",
       "      <td>NaN</td>\n",
       "      <td>12.0</td>\n",
       "      <td>16.0</td>\n",
       "      <td>9.283223</td>\n",
       "      <td>2.228209</td>\n",
       "      <td>43.570145</td>\n",
       "      <td>1</td>\n",
       "      <td>1</td>\n",
       "      <td>12.0</td>\n",
       "      <td>1898.35750</td>\n",
       "      <td>-0.721318</td>\n",
       "      <td>-6.0</td>\n",
       "      <td>-4.0</td>\n",
       "    </tr>\n",
       "    <tr>\n",
       "      <th>3</th>\n",
       "      <td>1.0</td>\n",
       "      <td>18.0</td>\n",
       "      <td>12.0</td>\n",
       "      <td>19.096916</td>\n",
       "      <td>2.949527</td>\n",
       "      <td>43.570145</td>\n",
       "      <td>1</td>\n",
       "      <td>1</td>\n",
       "      <td>16.0</td>\n",
       "      <td>1898.35750</td>\n",
       "      <td>0.721318</td>\n",
       "      <td>6.0</td>\n",
       "      <td>4.0</td>\n",
       "    </tr>\n",
       "    <tr>\n",
       "      <th>4</th>\n",
       "      <td>NaN</td>\n",
       "      <td>12.0</td>\n",
       "      <td>12.0</td>\n",
       "      <td>15.447336</td>\n",
       "      <td>2.728481</td>\n",
       "      <td>30.983910</td>\n",
       "      <td>1</td>\n",
       "      <td>0</td>\n",
       "      <td>12.0</td>\n",
       "      <td>960.00262</td>\n",
       "      <td>-0.129809</td>\n",
       "      <td>0.0</td>\n",
       "      <td>0.0</td>\n",
       "    </tr>\n",
       "  </tbody>\n",
       "</table>\n",
       "</div>"
      ],
      "text/plain": [
       "   first  educ  educt     hrwage     lwage        age  white  female  educt_t  \\\n",
       "0    1.0  16.0   16.0  11.935573  2.479523  33.251190      1       1     16.0   \n",
       "1    NaN  16.0   16.0   9.208958  2.220177  33.251190      1       1     16.0   \n",
       "2    NaN  12.0   16.0   9.283223  2.228209  43.570145      1       1     12.0   \n",
       "3    1.0  18.0   12.0  19.096916  2.949527  43.570145      1       1     16.0   \n",
       "4    NaN  12.0   12.0  15.447336  2.728481  30.983910      1       0     12.0   \n",
       "\n",
       "         age2    dlwage  deduc  deduct  \n",
       "0  1105.64160  0.259346    0.0     0.0  \n",
       "1  1105.64160 -0.259346    0.0     0.0  \n",
       "2  1898.35750 -0.721318   -6.0    -4.0  \n",
       "3  1898.35750  0.721318    6.0     4.0  \n",
       "4   960.00262 -0.129809    0.0     0.0  "
      ]
     },
     "execution_count": 4,
     "metadata": {},
     "output_type": "execute_result"
    }
   ],
   "source": [
    "df.head()"
   ]
  },
  {
   "cell_type": "markdown",
   "metadata": {},
   "source": [
    "**Comments**: \n",
    "\n",
    "  - `df` is our dataset\n",
    "  - `.head()` following the `df` call out the names of the variables and the first five rows(observations) of the dataset.\n",
    "  - `df.head()` if we leave the brackets `()` empty, it shows the first 5 rows; however, you can specify how many rows to show, for example, `df.head(10)` shows the first 10 rows."
   ]
  },
  {
   "cell_type": "markdown",
   "metadata": {},
   "source": [
    "Most likely, your data will come with many variables you won't use. Here's one way of choosing only the variables that you care. For example, I want a new dataset with only two variables: education (`educ`) and hourly wage(`hrwage`): "
   ]
  },
  {
   "cell_type": "code",
   "execution_count": 5,
   "metadata": {},
   "outputs": [
    {
     "data": {
      "text/html": [
       "<div>\n",
       "<style scoped>\n",
       "    .dataframe tbody tr th:only-of-type {\n",
       "        vertical-align: middle;\n",
       "    }\n",
       "\n",
       "    .dataframe tbody tr th {\n",
       "        vertical-align: top;\n",
       "    }\n",
       "\n",
       "    .dataframe thead th {\n",
       "        text-align: right;\n",
       "    }\n",
       "</style>\n",
       "<table border=\"1\" class=\"dataframe\">\n",
       "  <thead>\n",
       "    <tr style=\"text-align: right;\">\n",
       "      <th></th>\n",
       "      <th>educ</th>\n",
       "      <th>hrwage</th>\n",
       "    </tr>\n",
       "  </thead>\n",
       "  <tbody>\n",
       "    <tr>\n",
       "      <th>0</th>\n",
       "      <td>16.0</td>\n",
       "      <td>11.935573</td>\n",
       "    </tr>\n",
       "    <tr>\n",
       "      <th>1</th>\n",
       "      <td>16.0</td>\n",
       "      <td>9.208958</td>\n",
       "    </tr>\n",
       "    <tr>\n",
       "      <th>2</th>\n",
       "      <td>12.0</td>\n",
       "      <td>9.283223</td>\n",
       "    </tr>\n",
       "    <tr>\n",
       "      <th>3</th>\n",
       "      <td>18.0</td>\n",
       "      <td>19.096916</td>\n",
       "    </tr>\n",
       "    <tr>\n",
       "      <th>4</th>\n",
       "      <td>12.0</td>\n",
       "      <td>15.447336</td>\n",
       "    </tr>\n",
       "  </tbody>\n",
       "</table>\n",
       "</div>"
      ],
      "text/plain": [
       "   educ     hrwage\n",
       "0  16.0  11.935573\n",
       "1  16.0   9.208958\n",
       "2  12.0   9.283223\n",
       "3  18.0  19.096916\n",
       "4  12.0  15.447336"
      ]
     },
     "execution_count": 5,
     "metadata": {},
     "output_type": "execute_result"
    }
   ],
   "source": [
    "df1 = df[['educ','hrwage']]\n",
    "df1.head()"
   ]
  },
  {
   "cell_type": "markdown",
   "metadata": {},
   "source": [
    "**Comments**:\n",
    "  - `df` is our original dataset.\n",
    "  - `['educ','hrwage']` creates a list of variable names that we are interested in\n",
    "  - `df[['educ','hrwage']]` selects the only two variables, where the outer layer bracket `df[]` is needed for sectioning the data, while the inner layer bracket `['educ','hrwage']` is for the list of names.\n",
    "  - we assign the name `df1` to the new dataset with `df1 = df[['educ','hrwage']]`"
   ]
  },
  {
   "cell_type": "markdown",
   "metadata": {},
   "source": [
    "We can also select specific rows of data. For example, we want to create a dataset consists of only females:"
   ]
  },
  {
   "cell_type": "code",
   "execution_count": 6,
   "metadata": {},
   "outputs": [
    {
     "data": {
      "text/html": [
       "<div>\n",
       "<style scoped>\n",
       "    .dataframe tbody tr th:only-of-type {\n",
       "        vertical-align: middle;\n",
       "    }\n",
       "\n",
       "    .dataframe tbody tr th {\n",
       "        vertical-align: top;\n",
       "    }\n",
       "\n",
       "    .dataframe thead th {\n",
       "        text-align: right;\n",
       "    }\n",
       "</style>\n",
       "<table border=\"1\" class=\"dataframe\">\n",
       "  <thead>\n",
       "    <tr style=\"text-align: right;\">\n",
       "      <th></th>\n",
       "      <th>first</th>\n",
       "      <th>educ</th>\n",
       "      <th>educt</th>\n",
       "      <th>hrwage</th>\n",
       "      <th>lwage</th>\n",
       "      <th>age</th>\n",
       "      <th>white</th>\n",
       "      <th>female</th>\n",
       "      <th>educt_t</th>\n",
       "      <th>age2</th>\n",
       "      <th>dlwage</th>\n",
       "      <th>deduc</th>\n",
       "      <th>deduct</th>\n",
       "    </tr>\n",
       "  </thead>\n",
       "  <tbody>\n",
       "    <tr>\n",
       "      <th>0</th>\n",
       "      <td>1.0</td>\n",
       "      <td>16.0</td>\n",
       "      <td>16.0</td>\n",
       "      <td>11.935573</td>\n",
       "      <td>2.479523</td>\n",
       "      <td>33.251190</td>\n",
       "      <td>1</td>\n",
       "      <td>1</td>\n",
       "      <td>16.0</td>\n",
       "      <td>1105.6416</td>\n",
       "      <td>0.259346</td>\n",
       "      <td>0.0</td>\n",
       "      <td>0.0</td>\n",
       "    </tr>\n",
       "    <tr>\n",
       "      <th>1</th>\n",
       "      <td>NaN</td>\n",
       "      <td>16.0</td>\n",
       "      <td>16.0</td>\n",
       "      <td>9.208958</td>\n",
       "      <td>2.220177</td>\n",
       "      <td>33.251190</td>\n",
       "      <td>1</td>\n",
       "      <td>1</td>\n",
       "      <td>16.0</td>\n",
       "      <td>1105.6416</td>\n",
       "      <td>-0.259346</td>\n",
       "      <td>0.0</td>\n",
       "      <td>0.0</td>\n",
       "    </tr>\n",
       "    <tr>\n",
       "      <th>2</th>\n",
       "      <td>NaN</td>\n",
       "      <td>12.0</td>\n",
       "      <td>16.0</td>\n",
       "      <td>9.283223</td>\n",
       "      <td>2.228209</td>\n",
       "      <td>43.570145</td>\n",
       "      <td>1</td>\n",
       "      <td>1</td>\n",
       "      <td>12.0</td>\n",
       "      <td>1898.3575</td>\n",
       "      <td>-0.721318</td>\n",
       "      <td>-6.0</td>\n",
       "      <td>-4.0</td>\n",
       "    </tr>\n",
       "    <tr>\n",
       "      <th>3</th>\n",
       "      <td>1.0</td>\n",
       "      <td>18.0</td>\n",
       "      <td>12.0</td>\n",
       "      <td>19.096916</td>\n",
       "      <td>2.949527</td>\n",
       "      <td>43.570145</td>\n",
       "      <td>1</td>\n",
       "      <td>1</td>\n",
       "      <td>16.0</td>\n",
       "      <td>1898.3575</td>\n",
       "      <td>0.721318</td>\n",
       "      <td>6.0</td>\n",
       "      <td>4.0</td>\n",
       "    </tr>\n",
       "    <tr>\n",
       "      <th>8</th>\n",
       "      <td>NaN</td>\n",
       "      <td>15.0</td>\n",
       "      <td>13.0</td>\n",
       "      <td>8.094971</td>\n",
       "      <td>2.091243</td>\n",
       "      <td>34.978775</td>\n",
       "      <td>1</td>\n",
       "      <td>1</td>\n",
       "      <td>15.0</td>\n",
       "      <td>1223.5146</td>\n",
       "      <td>-1.523260</td>\n",
       "      <td>2.0</td>\n",
       "      <td>2.0</td>\n",
       "    </tr>\n",
       "  </tbody>\n",
       "</table>\n",
       "</div>"
      ],
      "text/plain": [
       "   first  educ  educt     hrwage     lwage        age  white  female  educt_t  \\\n",
       "0    1.0  16.0   16.0  11.935573  2.479523  33.251190      1       1     16.0   \n",
       "1    NaN  16.0   16.0   9.208958  2.220177  33.251190      1       1     16.0   \n",
       "2    NaN  12.0   16.0   9.283223  2.228209  43.570145      1       1     12.0   \n",
       "3    1.0  18.0   12.0  19.096916  2.949527  43.570145      1       1     16.0   \n",
       "8    NaN  15.0   13.0   8.094971  2.091243  34.978775      1       1     15.0   \n",
       "\n",
       "        age2    dlwage  deduc  deduct  \n",
       "0  1105.6416  0.259346    0.0     0.0  \n",
       "1  1105.6416 -0.259346    0.0     0.0  \n",
       "2  1898.3575 -0.721318   -6.0    -4.0  \n",
       "3  1898.3575  0.721318    6.0     4.0  \n",
       "8  1223.5146 -1.523260    2.0     2.0  "
      ]
     },
     "execution_count": 6,
     "metadata": {},
     "output_type": "execute_result"
    }
   ],
   "source": [
    "df_f = df[df['female'] == 1]\n",
    "df_f.head()"
   ]
  },
  {
   "cell_type": "markdown",
   "metadata": {},
   "source": [
    "**Comments**:\n",
    "  - In the code `df[df['female'] == 1]`:\n",
    "    - the inner part `df['female'] == 1` conditions the data to be all the observations that has `female` equal to $1$.\n",
    "    - once we put the condition `df['female'] == 1` inside `df[]`, it creates a new dataset that only contains obervations that has `female` equal to 1.\n",
    "  - Then we assign a new name `df_f` to this dataset, which can be called on later.\n",
    "  - Take a look at the first five rows of data, in the `female` colume, all the values equal to 1.\n",
    "\n",
    "We also create a dataset that contains non-female observations only, call it `df_nf`"
   ]
  },
  {
   "cell_type": "code",
   "execution_count": 7,
   "metadata": {},
   "outputs": [
    {
     "data": {
      "text/html": [
       "<div>\n",
       "<style scoped>\n",
       "    .dataframe tbody tr th:only-of-type {\n",
       "        vertical-align: middle;\n",
       "    }\n",
       "\n",
       "    .dataframe tbody tr th {\n",
       "        vertical-align: top;\n",
       "    }\n",
       "\n",
       "    .dataframe thead th {\n",
       "        text-align: right;\n",
       "    }\n",
       "</style>\n",
       "<table border=\"1\" class=\"dataframe\">\n",
       "  <thead>\n",
       "    <tr style=\"text-align: right;\">\n",
       "      <th></th>\n",
       "      <th>first</th>\n",
       "      <th>educ</th>\n",
       "      <th>educt</th>\n",
       "      <th>hrwage</th>\n",
       "      <th>lwage</th>\n",
       "      <th>age</th>\n",
       "      <th>white</th>\n",
       "      <th>female</th>\n",
       "      <th>educt_t</th>\n",
       "      <th>age2</th>\n",
       "      <th>dlwage</th>\n",
       "      <th>deduc</th>\n",
       "      <th>deduct</th>\n",
       "    </tr>\n",
       "  </thead>\n",
       "  <tbody>\n",
       "    <tr>\n",
       "      <th>4</th>\n",
       "      <td>NaN</td>\n",
       "      <td>12.0</td>\n",
       "      <td>12.000000</td>\n",
       "      <td>15.447336</td>\n",
       "      <td>2.728481</td>\n",
       "      <td>30.983910</td>\n",
       "      <td>1</td>\n",
       "      <td>0</td>\n",
       "      <td>12.000000</td>\n",
       "      <td>960.00262</td>\n",
       "      <td>-0.129809</td>\n",
       "      <td>0.0</td>\n",
       "      <td>0.000000</td>\n",
       "    </tr>\n",
       "    <tr>\n",
       "      <th>5</th>\n",
       "      <td>1.0</td>\n",
       "      <td>12.0</td>\n",
       "      <td>12.000000</td>\n",
       "      <td>17.432159</td>\n",
       "      <td>2.858290</td>\n",
       "      <td>30.983910</td>\n",
       "      <td>1</td>\n",
       "      <td>0</td>\n",
       "      <td>12.000000</td>\n",
       "      <td>960.00262</td>\n",
       "      <td>0.129809</td>\n",
       "      <td>0.0</td>\n",
       "      <td>0.000000</td>\n",
       "    </tr>\n",
       "    <tr>\n",
       "      <th>6</th>\n",
       "      <td>NaN</td>\n",
       "      <td>14.0</td>\n",
       "      <td>14.000000</td>\n",
       "      <td>19.316584</td>\n",
       "      <td>2.887312</td>\n",
       "      <td>35.211269</td>\n",
       "      <td>1</td>\n",
       "      <td>0</td>\n",
       "      <td>14.333333</td>\n",
       "      <td>1239.83350</td>\n",
       "      <td>0.073764</td>\n",
       "      <td>0.0</td>\n",
       "      <td>0.333333</td>\n",
       "    </tr>\n",
       "    <tr>\n",
       "      <th>7</th>\n",
       "      <td>1.0</td>\n",
       "      <td>14.0</td>\n",
       "      <td>14.333333</td>\n",
       "      <td>16.698618</td>\n",
       "      <td>2.813548</td>\n",
       "      <td>35.211269</td>\n",
       "      <td>1</td>\n",
       "      <td>0</td>\n",
       "      <td>14.000000</td>\n",
       "      <td>1239.83350</td>\n",
       "      <td>-0.073764</td>\n",
       "      <td>0.0</td>\n",
       "      <td>-0.333333</td>\n",
       "    </tr>\n",
       "    <tr>\n",
       "      <th>10</th>\n",
       "      <td>NaN</td>\n",
       "      <td>14.0</td>\n",
       "      <td>15.000000</td>\n",
       "      <td>15.681567</td>\n",
       "      <td>2.752376</td>\n",
       "      <td>29.669403</td>\n",
       "      <td>1</td>\n",
       "      <td>0</td>\n",
       "      <td>14.000000</td>\n",
       "      <td>880.27350</td>\n",
       "      <td>-0.346573</td>\n",
       "      <td>1.0</td>\n",
       "      <td>-1.000000</td>\n",
       "    </tr>\n",
       "  </tbody>\n",
       "</table>\n",
       "</div>"
      ],
      "text/plain": [
       "    first  educ      educt     hrwage     lwage        age  white  female  \\\n",
       "4     NaN  12.0  12.000000  15.447336  2.728481  30.983910      1       0   \n",
       "5     1.0  12.0  12.000000  17.432159  2.858290  30.983910      1       0   \n",
       "6     NaN  14.0  14.000000  19.316584  2.887312  35.211269      1       0   \n",
       "7     1.0  14.0  14.333333  16.698618  2.813548  35.211269      1       0   \n",
       "10    NaN  14.0  15.000000  15.681567  2.752376  29.669403      1       0   \n",
       "\n",
       "      educt_t        age2    dlwage  deduc    deduct  \n",
       "4   12.000000   960.00262 -0.129809    0.0  0.000000  \n",
       "5   12.000000   960.00262  0.129809    0.0  0.000000  \n",
       "6   14.333333  1239.83350  0.073764    0.0  0.333333  \n",
       "7   14.000000  1239.83350 -0.073764    0.0 -0.333333  \n",
       "10  14.000000   880.27350 -0.346573    1.0 -1.000000  "
      ]
     },
     "execution_count": 7,
     "metadata": {},
     "output_type": "execute_result"
    }
   ],
   "source": [
    "df_nf = df[df['female'] == 0]\n",
    "df_nf.head()"
   ]
  },
  {
   "cell_type": "markdown",
   "metadata": {},
   "source": [
    "# Summarize the Data\n",
    "\n",
    "## Summary Statistics\n",
    "\n",
    "The first few rows of data are far from representative of the entire dataset. We can take a look at the summary statistics of the variables."
   ]
  },
  {
   "cell_type": "code",
   "execution_count": 8,
   "metadata": {},
   "outputs": [
    {
     "data": {
      "text/plain": [
       "educ      14.030415\n",
       "hrwage    14.436402\n",
       "dtype: float64"
      ]
     },
     "execution_count": 8,
     "metadata": {},
     "output_type": "execute_result"
    }
   ],
   "source": [
    "np.mean(df1)"
   ]
  },
  {
   "cell_type": "code",
   "execution_count": 9,
   "metadata": {},
   "outputs": [
    {
     "data": {
      "text/plain": [
       "14.030415430267063"
      ]
     },
     "execution_count": 9,
     "metadata": {},
     "output_type": "execute_result"
    }
   ],
   "source": [
    "np.mean(df1['educ'])"
   ]
  },
  {
   "cell_type": "markdown",
   "metadata": {},
   "source": [
    "**Comments:**\n",
    "  - The code `np.mean()` simply calls out the function `mean` from numpy `np`.\n",
    "  - We need to specificy what we apply `np.mean()` to. If we want the mean of each variables in the dataset `df1`, simply put `df1` in the parentheses: `np.mean(df1)`.\n",
    "  - If we want to find the mean of a specific variable `educ` in the dataset `df1`, we can do so by writing `df1['educ']`, and inside the bracket `['educ']` is the variable name we want.\n",
    "  - Note that before when we created the datasets df1, we used the code `df1 = df[['educ','hrwage']]`, where there are two brackets, why do we only use one bracket in this case? The main difference being `df1['educ']` gives you a column of numbers, whereas ``df1[['educ']]`` gives you a new dataset with one variable and is indexed. Check out this nice example: https://stackoverflow.com/questions/50302180/difference-between-dfx-dfx-dfx-dfx-and-df-x. "
   ]
  },
  {
   "cell_type": "markdown",
   "metadata": {},
   "source": [
    "Here are some other functions in numpy `np` you can use:\n",
    "  - `np.std()` to find the standard deviation\n",
    "  - `np.median()` to find the median\n",
    "  - `np.min()` to find the minimum\n",
    "  - `np.max()` to find the maximum\n",
    "\n",
    "In fact, numpy has many mathematical functions built in, such as sine/cosine, exponential, logarithm etc. You can find a partial list here https://numpy.org/doc/stable/reference/routines.math.html. As we mentioned, Python is open-sourced, so if you want to find some codes for specific uses, just search them and the chance is that someone already wrote them."
   ]
  },
  {
   "cell_type": "markdown",
   "metadata": {},
   "source": [
    "What if we want them altogether in one table? It's simple. One way to do this is using the affix/function `.describe()` after the dataset `df1`. See below:"
   ]
  },
  {
   "cell_type": "code",
   "execution_count": 10,
   "metadata": {},
   "outputs": [
    {
     "data": {
      "text/html": [
       "<div>\n",
       "<style scoped>\n",
       "    .dataframe tbody tr th:only-of-type {\n",
       "        vertical-align: middle;\n",
       "    }\n",
       "\n",
       "    .dataframe tbody tr th {\n",
       "        vertical-align: top;\n",
       "    }\n",
       "\n",
       "    .dataframe thead th {\n",
       "        text-align: right;\n",
       "    }\n",
       "</style>\n",
       "<table border=\"1\" class=\"dataframe\">\n",
       "  <thead>\n",
       "    <tr style=\"text-align: right;\">\n",
       "      <th></th>\n",
       "      <th>educ</th>\n",
       "      <th>hrwage</th>\n",
       "    </tr>\n",
       "  </thead>\n",
       "  <tbody>\n",
       "    <tr>\n",
       "      <th>count</th>\n",
       "      <td>674.000000</td>\n",
       "      <td>674.000000</td>\n",
       "    </tr>\n",
       "    <tr>\n",
       "      <th>mean</th>\n",
       "      <td>14.030415</td>\n",
       "      <td>14.436402</td>\n",
       "    </tr>\n",
       "    <tr>\n",
       "      <th>std</th>\n",
       "      <td>2.078159</td>\n",
       "      <td>13.050072</td>\n",
       "    </tr>\n",
       "    <tr>\n",
       "      <th>min</th>\n",
       "      <td>8.000000</td>\n",
       "      <td>2.059872</td>\n",
       "    </tr>\n",
       "    <tr>\n",
       "      <th>25%</th>\n",
       "      <td>12.000000</td>\n",
       "      <td>7.426579</td>\n",
       "    </tr>\n",
       "    <tr>\n",
       "      <th>50%</th>\n",
       "      <td>14.000000</td>\n",
       "      <td>11.443457</td>\n",
       "    </tr>\n",
       "    <tr>\n",
       "      <th>75%</th>\n",
       "      <td>16.000000</td>\n",
       "      <td>16.570554</td>\n",
       "    </tr>\n",
       "    <tr>\n",
       "      <th>max</th>\n",
       "      <td>18.000000</td>\n",
       "      <td>133.333330</td>\n",
       "    </tr>\n",
       "  </tbody>\n",
       "</table>\n",
       "</div>"
      ],
      "text/plain": [
       "             educ      hrwage\n",
       "count  674.000000  674.000000\n",
       "mean    14.030415   14.436402\n",
       "std      2.078159   13.050072\n",
       "min      8.000000    2.059872\n",
       "25%     12.000000    7.426579\n",
       "50%     14.000000   11.443457\n",
       "75%     16.000000   16.570554\n",
       "max     18.000000  133.333330"
      ]
     },
     "execution_count": 10,
     "metadata": {},
     "output_type": "execute_result"
    }
   ],
   "source": [
    "df1.describe()"
   ]
  },
  {
   "cell_type": "markdown",
   "metadata": {},
   "source": [
    "What if we want to find the covariance between two variables `educ` and `hrwage`? Numpy also has a function for that"
   ]
  },
  {
   "cell_type": "code",
   "execution_count": 11,
   "metadata": {},
   "outputs": [
    {
     "data": {
      "text/plain": [
       "array([[  4.31874498,   8.32070508],\n",
       "       [  8.32070508, 170.30438488]])"
      ]
     },
     "execution_count": 11,
     "metadata": {},
     "output_type": "execute_result"
    }
   ],
   "source": [
    "np.cov(df1['educ'],df1['hrwage'])"
   ]
  },
  {
   "cell_type": "markdown",
   "metadata": {},
   "source": [
    "**Comments**:\n",
    "  - `np.cov(x,y)` is a function that will return the **covariance matrix** of two variables $x$ and $y$. \n",
    "  - The values on the diagonal are the variances of each variables. For example, $4.31874498$ is the variance of variable `educ`, and $170.30438488$ is the variance of variable `hrwage`.\n",
    "  - The values on the off-diagonal are the covariance. They are the same by definition. For example, $cov(educ,hrwage) = cov(hrwage,educ) = 8.32070508$."
   ]
  },
  {
   "cell_type": "markdown",
   "metadata": {},
   "source": [
    "## Histograms\n",
    "\n",
    "In addition to the statistical summarization of the data, sometimes it's useful to have some visualization of the data. We start with a single variable. The first thing we do is to plot the histogram of that variable."
   ]
  },
  {
   "cell_type": "code",
   "execution_count": 12,
   "metadata": {},
   "outputs": [
    {
     "data": {
      "image/png": "[encoded data removed]",
      "text/plain": [
       "<Figure size 432x288 with 1 Axes>"
      ]
     },
     "metadata": {
      "needs_background": "light"
     },
     "output_type": "display_data"
    }
   ],
   "source": [
    "plt.hist(df1['educ'])\n",
    "plt.title(\"Histogram of Education Attainment\")\n",
    "plt.xlabel(\"Years of Education\")\n",
    "plt.ylabel(\"Count\")\n",
    "plt.show()"
   ]
  },
  {
   "cell_type": "markdown",
   "metadata": {},
   "source": [
    "**Comments**:\n",
    "  - `plt` calls on the `matplotlib.pyplot`. It is the main library that we will be using for plots.\n",
    "  - `plt.hist()` calls out the histogram function. Inside the parentheses `()`, the user has to specify for which variable they want to plot the histogram. In this case, we want the education variable `educ`, so we use `df1['educ']` as before.\n",
    "  - `plt.title()` adds the title to the graph. Use the quotation mark so the function knows you are adding a name, not a variable.\n",
    "  - `plt.xlabel()` adds a label to the x-axis\n",
    "  - `plt.ylabel()` adds a label to the y-axis\n",
    "  - `plt.show()` added in the end so the plot will actually show up\n",
    "  - Try practice on your own to plot the histogram for hourly wage `hrwage`.\n",
    "  \n",
    "**Comments**:\n",
    "  - What can we tell from the histogram? Most of the people in the sample has 12 or more years of education. The distribution of education seems to be bimodal: around high school graduates (12 years of education) and college graduates (16 years of educaiton)."
   ]
  },
  {
   "cell_type": "markdown",
   "metadata": {},
   "source": [
    "## Scatter Plots\n",
    "\n",
    "To visualize the relationship between two variables, we want to use **scatter plots**. That is, we will plot one variable against another."
   ]
  },
  {
   "cell_type": "code",
   "execution_count": 13,
   "metadata": {},
   "outputs": [
    {
     "data": {
      "image/png": "[encoded data removed]",
      "text/plain": [
       "<Figure size 432x288 with 1 Axes>"
      ]
     },
     "metadata": {
      "needs_background": "light"
     },
     "output_type": "display_data"
    }
   ],
   "source": [
    "plt.scatter(df1['educ'], df1['hrwage'])\n",
    "plt.title(\"Scatter Plot of Hourly Wage and Education\")\n",
    "plt.xlabel(\"Years of Education\")\n",
    "plt.ylabel(\"Hourly Wage\")\n",
    "plt.show()"
   ]
  },
  {
   "cell_type": "markdown",
   "metadata": {},
   "source": [
    "**Comments**:\n",
    "  - `plt.scatter(x,y)` calls out the scatter plot of x (horizontal axis variable) and y (vertical axis variable).\n",
    "  - Inside the parentheses of `plt.scatter(df1['educ'], df1['hrwage'])`:\n",
    "    - `df1['educ']` selects the variable `educ` from the dataset `df1`, and we put `df1['educ']` on the first position to indicate that we want this variable to be on the horizontal axis. \n",
    "    - Similarly, `df1['hrwage']` selects the variable `hrwage` from the dataset `df1`, and we put `df1['hrwage']` on the first position to indicate that we want this variable to be on the vertical axis.\n",
    "  - `plt.title()` adds the title to the graph. Use the quotation mark so the function knows you are adding a name, not a variable.\n",
    "  - `plt.xlabel()` adds a label to the x-axis\n",
    "  - `plt.ylabel()` adds a label to the y-axis\n",
    "  - `plt.show()` added in the end so the plot will actually show up\n",
    "  \n",
    "\n",
    "**Comments**:\n",
    "  - It's a good habit to clearly label your graphs.\n",
    "  - Each dot on the scatter plot represents one single data point in the sample: in our example, each data point represents that specific person's education level and hourly wage.\n",
    "  - The scatter plots seems to indicate that higher educational level is associated with higher wage."
   ]
  },
  {
   "cell_type": "code",
   "execution_count": 14,
   "metadata": {},
   "outputs": [
    {
     "data": {
      "image/png": "[encoded data removed]",
      "text/plain": [
       "<Figure size 432x288 with 1 Axes>"
      ]
     },
     "metadata": {
      "needs_background": "light"
     },
     "output_type": "display_data"
    }
   ],
   "source": [
    "plt.scatter(df_f['educ'], df_f['hrwage'], label = \"female\", color = \"red\")\n",
    "plt.scatter(df_nf['educ'], df_nf['hrwage'], label = \"non-female\", color = \"green\")\n",
    "plt.title(\"Scatter Plot of Hourly Wage and Education\")\n",
    "plt.xlabel(\"Years of Education\")\n",
    "plt.ylabel(\"Hourly Wage\")\n",
    "plt.legend()\n",
    "plt.show()"
   ]
  },
  {
   "cell_type": "markdown",
   "metadata": {},
   "source": [
    "**Comments**:\n",
    "  - You can get very creative with the graph. There are plenty of options for you to customize your graph.\n",
    "  - In the above example, we create a scatter plot using the dataset with female only (`df_f`), and we overlay it with another scatter plot with non-female only (`df_nf`).\n",
    "  - Inside the parentheses of `plt.scatter()`:\n",
    "    - `label = \"female\"` will create a label `female` for this scatter plot\n",
    "    - `color = \"red\"` will make the dots red color, which you can change to many other colors\n",
    "  - The code `plt.legend()` will show the labels for each scatter plot, so we know which plot is which.\n",
    "  - What does this graph tell you?"
   ]
  },
  {
   "cell_type": "markdown",
   "metadata": {},
   "source": [
    "# Simple Linear Regression with One Variable \n",
    "\n",
    "In lecture, we have seen how the theory for simple linear regression works. How do we do it in Python?"
   ]
  },
  {
   "cell_type": "markdown",
   "metadata": {},
   "source": [
    "## Regression Output\n",
    "There are many libraries that deal with regression analysis. We will use `statsmodels.formula`, as it is a well maintained package and very intuitive to use. Recall that we imported this package as `smf`.\n",
    "\n",
    "In this section, we are going to regress hourly wage `hrwage` on educational level `educ`:\n",
    "\n",
    "$$ \\text{hourly wage} = \\beta_0 + \\beta_1 \\text{educ} + \\text{residual}$$\n",
    "\n",
    "and the code is as following:"
   ]
  },
  {
   "cell_type": "code",
   "execution_count": 15,
   "metadata": {},
   "outputs": [
    {
     "name": "stdout",
     "output_type": "stream",
     "text": [
      "                            OLS Regression Results                            \n",
      "==============================================================================\n",
      "Dep. Variable:                 hrwage   R-squared:                       0.094\n",
      "Model:                            OLS   Adj. R-squared:                  0.093\n",
      "Method:                 Least Squares   F-statistic:                     48.64\n",
      "Date:                Sun, 02 Aug 2020   Prob (F-statistic):           7.36e-12\n",
      "Time:                        13:59:53   Log-Likelihood:                -2653.9\n",
      "No. Observations:                 674   AIC:                             5312.\n",
      "Df Residuals:                     672   BIC:                             5321.\n",
      "Df Model:                           1                                         \n",
      "Covariance Type:                  HC1                                         \n",
      "==============================================================================\n",
      "                 coef    std err          z      P>|z|      [0.025      0.975]\n",
      "------------------------------------------------------------------------------\n",
      "Intercept    -12.5953      3.597     -3.501      0.000     -19.646      -5.544\n",
      "educ           1.9266      0.276      6.974      0.000       1.385       2.468\n",
      "==============================================================================\n",
      "Omnibus:                      635.040   Durbin-Watson:                   1.506\n",
      "Prob(Omnibus):                  0.000   Jarque-Bera (JB):            22980.336\n",
      "Skew:                           4.233   Prob(JB):                         0.00\n",
      "Kurtosis:                      30.324   Cond. No.                         97.3\n",
      "==============================================================================\n",
      "\n",
      "Warnings:\n",
      "[1] Standard Errors are heteroscedasticity robust (HC1)\n"
     ]
    }
   ],
   "source": [
    "model = smf.ols(formula = 'hrwage ~ educ', data=df)\n",
    "results = model.fit(cov_type = 'HC1')\n",
    "print(results.summary())"
   ]
  },
  {
   "cell_type": "markdown",
   "metadata": {},
   "source": [
    "**Comments**:\n",
    "\n",
    "  - Since we are running the OLS regression, so we call out the OLS function`ols()` from the package `smf` with the code `smf.ols()`;\n",
    "  \n",
    "  \n",
    "  - Inside the parenthses of `smf.ols(formula = 'hrwage ~ educ', data=df)`:\n",
    "  \n",
    "    - `formula = 'hrwage~educ'` specifies the regression formula. The variable `hrwage` is the dependent variable, and `educ` is the regressor. `~` is used to separate the twosides of the regression. The constant is automatically included. The formula needs to be in quotation marks.\n",
    "    \n",
    "    - `data = df` tells the formula which dataset are we using.\n",
    "    \n",
    "    \n",
    "  - Then, we asign the name `model` to the output of the function `smf.ols(formula = 'hrwage ~ educ', data=df)`. You can name the output however you like though. The `model` contains all the information from the regression.\n",
    "  \n",
    "  \n",
    "  - The `model` can't be called on by itself. We have to summarize the model fit using function `.fit()` to get a summary of the model outputs, such as the standard errors or the fitted values. \n",
    "  \n",
    "  \n",
    "  - We assign the name `results` to the fitted model `results = model.fit(cov_type = 'HC1')`:\n",
    "  \n",
    "    - If the parentheses in `model.fit()` is left blank, the standard errors on the OLS estimates are **homoskedastic** by default.\n",
    "    \n",
    "    - To have heteroskedasticity robust standard errors, we need to write `cov_type = 'HC1'` inside the `model.fit()`. Don't worry about the name HC1. Just memorize it as the synonym of \"hetoroskedasticity consistent\" for now.\n",
    "    \n",
    "   \n",
    "  - To see the regression table, we first assign the function `.summary()` to the `results`, then we print the results using `print(results.summary())`. As you can see from the table, it contains all you need to know from the regression."
   ]
  },
  {
   "cell_type": "markdown",
   "metadata": {},
   "source": [
    "**What information are summarized in the table?**\n",
    "\n",
    "\n",
    "  - number of observations\n",
    "  \n",
    "  \n",
    "  - $R^2$ and adjusted-$R^2$\n",
    "  \n",
    "  \n",
    "  - The `coef` column contains the estimated regression coefficients. For example, the estimated coefficient on `intercept` is $\\hat\\beta_0$, the coefficient on `educ` is $\\hat\\beta_1$.\n",
    "  \n",
    "  \n",
    "  - The `std err` column contains the standard error of the estimates of regression coefficients, namely, $SE(\\hat\\beta_0)$ and $SE(\\hat\\beta_1)$\n",
    "  \n",
    "  \n",
    "  - The `z` column calculates the t-statistic under two-sided null hypothesis that the true coefficient $\\beta_j = 0$, for $j=0,1$. For example, the `z` for the estimated coefficent $\\hat\\beta_1$ on `educ` is calculated by\n",
    "  $$ \\frac{\\hat\\beta_1 - \\beta_1}{SE(\\hat\\beta_1)} = \\frac{\\hat\\beta_1 - 0}{SE(\\hat\\beta_1)} = \\frac{ 1.9266}{0.276} =  6.974$$\n",
    "  the letter `z` is used to reference that here the t-statistic has an approximately standard normal distribution, which we usually use $Z$ as the letter for $N(0,1)$. \n",
    "  \n",
    "  \n",
    "  - The `P>|z|` column calculates the p-value for the two-sided hypothesis. Recall that p-value is defined as the probability, under the null, of drawing another test-statistic that is at least as adverse to the null as the computed test-statistic value.\n",
    "    - in this example, we reject can reject the null that $\\beta_1 =0$ at $1\\%$ significance level since the p-value on $\\hat\\beta_1$ is practically 0. (recall that we reject the null if the p-value is less than the significance level)\n",
    "    \n",
    "  \n",
    "  - The last column `[0.025 0.975]` contains the lower and upper values of the $95\\%$ confidence intervals for the estimated coefficients."
   ]
  },
  {
   "cell_type": "markdown",
   "metadata": {},
   "source": [
    "## Interpretation of Regression Output\n",
    "\n",
    "Recall our regression output is\n",
    "\n",
    "\\begin{align*}\n",
    "\\widehat{\\text{hrwage}} &= -12.5953 + 1.9266\\times \\text{educ}\\\\\n",
    "&\\quad\\quad(3.597)\\quad(0.276)\\\\\n",
    "\\end{align*}\n",
    "\n",
    "where in the above expression, the value inside parentheses under each coefficient is the standard error of that coefficient. `hrwage` is the hourly wage and `educ` is the years of education.\n",
    "\n",
    "\n",
    "  - How to interpret the coefficient on `educ`?\n",
    "  \n",
    "    - on average, one additional year of education is associated with $\\$1.9266$ increase on hourly wage.\n",
    "    \n",
    "  \n",
    "  - What's the t-statistic on the coefficient on `educ` for $H_0: \\beta_1 = 0$ vs. $H_1:\\beta_1\\neq 0$?\n",
    "  \n",
    "  $$\n",
    "   \\hat{t} = \\frac{\\hat\\beta_1 - \\beta_1}{SE(\\hat\\beta_1)} = \\frac{\\hat\\beta_1 - 0}{SE(\\hat\\beta_1)} = \\frac{ 1.9266}{0.276} =  6.974\n",
    "  $$\n",
    "  \n",
    "  \n",
    "  - Do you reject $H_0$ at $5\\%$ significance level? The critical value $z_{0.025} = 1.96$\n",
    "    - Yes. We reject $H_0$ if $\\hat{t}>z_{0.025}$ or $\\hat{t} < -z_{0.025}$\n",
    "    \n",
    "    \n",
    "  - What's 95\\% confidence interval for $\\beta_1$?\n",
    "    - we can either read that off the regression table: $[1.385,2.468]$\n",
    "    - or calculate it by hand:\n",
    "    \\begin{align*}\n",
    "    &[\\hat{\\beta}_1 - 1.96*SE(\\hat\\beta_1),\\hat{\\beta}_1 + 1.96*SE(\\hat\\beta_1)]\\\\\n",
    "    \\iff & [1.9266 - 1.96*0.276, 1.9266 + 1.96*0.276]\\\\\n",
    "    \\iff & [1.385,2.468]\n",
    "    \\end{align*}\n",
    "    which is the same result as in the table."
   ]
  },
  {
   "cell_type": "markdown",
   "metadata": {},
   "source": [
    "## Plot the Regression Line\n",
    "\n",
    "In the previous section, we have created a scatter plot on hourly wage and years of education. Now we are going to fit a regression line in the scatter plot. There are many different ways of plotting the regression line. Here we give you two possible ways:\n",
    " \n",
    "  - The first way is to use a very powerful library called `seaborn`, which we imported under the nickname `sns`. Check out the trove of beautiful plots the `seaborn` library can create: https://seaborn.pydata.org/examples/index.html\n",
    "  \n",
    "  \n",
    "  - The second way is to do it by \"hand\", which is a bit more cumbersome, but you do see what's behind the scene."
   ]
  },
  {
   "cell_type": "markdown",
   "metadata": {},
   "source": [
    "### Use Seaborn Library"
   ]
  },
  {
   "cell_type": "code",
   "execution_count": 16,
   "metadata": {},
   "outputs": [
    {
     "data": {
      "image/png": "[encoded data removed]",
      "text/plain": [
       "<Figure size 432x288 with 1 Axes>"
      ]
     },
     "metadata": {},
     "output_type": "display_data"
    }
   ],
   "source": [
    "sns.set()\n",
    "sns.regplot(x=\"educ\", y=\"hrwage\", ci= None, data=df)\n",
    "plt.xlabel('years of education')\n",
    "plt.ylabel('hourly wage')\n",
    "plt.title('Scatter Plot with Fitted Regression Line ')\n",
    "plt.show()"
   ]
  },
  {
   "cell_type": "markdown",
   "metadata": {},
   "source": [
    "**Comments**\n",
    "  - `sns.set()` sets the graph style to those come with the library `seaborn`. It's entirely optional.\n",
    "  \n",
    "  \n",
    "  - In the code `sns.regplot(x=\"educ\", y=\"hrwage\", ci= None, data=df)`:\n",
    "  \n",
    "    - `sns` is calling on the library `seaborn`, and `sns` is the nickname we gave when we loaded the libraries.\n",
    "    - `sns.regplot()` is calling the function `regplot()` that comes with the seaborn. \n",
    "    - Inside the parentheses of `regplot()`:\n",
    "    \n",
    "       - `x=\"educ\"` specifies the variable on the x-axis\n",
    "       \n",
    "       - `y=\"hrwage\"` specifies the variable on the y-axis\n",
    "       \n",
    "       - `ci = None` to indicate that we don't want the confidence bands around the regression line\n",
    "       \n",
    "       - `data = df` to indicate `df` is the dataset we are using"
   ]
  },
  {
   "cell_type": "markdown",
   "metadata": {},
   "source": [
    "### Do It Yourself"
   ]
  },
  {
   "cell_type": "code",
   "execution_count": 17,
   "metadata": {},
   "outputs": [
    {
     "data": {
      "text/plain": [
       "Intercept   -12.595282\n",
       "educ          1.926649\n",
       "dtype: float64"
      ]
     },
     "execution_count": 17,
     "metadata": {},
     "output_type": "execute_result"
    }
   ],
   "source": [
    "results.params"
   ]
  },
  {
   "cell_type": "markdown",
   "metadata": {},
   "source": [
    "**Comments**: \n",
    "\n",
    "  - Recall that `results` is the final object from our regression code. It contains all the information of that regression.\n",
    "  \n",
    "  - `results` has many attributes. For example, you have seen the `results.summary()`, which will give a summary of the regression results. In fact, any attributes of `results` can be called out individually.\n",
    "  \n",
    "  - `results.params` calls out the coefficients/parameters on the intercept and on the regressor, as you can see from above output."
   ]
  },
  {
   "cell_type": "code",
   "execution_count": 18,
   "metadata": {},
   "outputs": [],
   "source": [
    "b0, b1 = results.params"
   ]
  },
  {
   "cell_type": "markdown",
   "metadata": {},
   "source": [
    "**Comments**:\n",
    "  - We assign values of the parameters to two user-chosen names.\n",
    "  - Above code does it in one step:\n",
    "    - `results.params` has two outputs: intercept and regression coefficient on `educ`, aka slope.\n",
    "    - `b0, b1 = results.params`, in the order of elements in `results.params`,    \n",
    "      - assigns the intercept value to name `b0`\n",
    "      - assigns the coefficient on `educ` to name `b1` .\n",
    "  - You can also do this separately using the following code: `b0 = results.params[0]` and `b1 = results.params[1]`\n",
    "    - **be careful: python counts starting from 0**\n",
    "    - `results.params[0]` gives the first value of `results.params` \n",
    "    - `results.params[1]` gives the second value of `results.params`"
   ]
  },
  {
   "cell_type": "code",
   "execution_count": 19,
   "metadata": {},
   "outputs": [
    {
     "data": {
      "image/png": "[encoded data removed]",
      "text/plain": [
       "<Figure size 432x288 with 1 Axes>"
      ]
     },
     "metadata": {},
     "output_type": "display_data"
    }
   ],
   "source": [
    "plt.plot(df['educ'], df['hrwage'], '.')\n",
    "plt.plot(df['educ'], b0 + b1*df['educ'],'-')\n",
    "plt.xlabel('years of education')\n",
    "plt.ylabel('hourly wage')\n",
    "plt.title('Scatter Plot with Fitted Regression Line ')\n",
    "plt.show()"
   ]
  },
  {
   "cell_type": "markdown",
   "metadata": {},
   "source": [
    "**Comments**:\n",
    "\n",
    "  - `plt.plot()` calls the `plot()` function from matplotlib library `plt`.\n",
    "  \n",
    "  \n",
    "  - In the arguments in `plt.plot(df['educ'], df['hrwage'], '.')`:\n",
    "    - The first argument `df['educ']` specifies that the x-axis variable is `educ` from dataset `df`.\n",
    "    - The second argument `df['hrwage']` specifies that the y-axis variable is `hrwage` from dataset `df`.\n",
    "    - The third argument `'.'` specifies that type of the plot, in this case, the \"dot\".\n",
    "    - Together, these creates the scatter plot.\n",
    "    \n",
    "    \n",
    "  - In the arguments in `plt.plot(df['educ'], b0 + b1*df['educ'],'-')`:\n",
    "    - The first argument `df['educ']` specifies that the x-axis variable is `educ` from dataset `df`.\n",
    "    - The second argument `b0 + b1*df['educ']` specifies that the y-axis variable is the regression line that we are plotting:\n",
    "      - `b0` is the intercept and `b1` is the slope that we specified before.\n",
    "    - The third argument `'-'` specifies that type of the plot, in this case, the \"line\".\n",
    "    - Together, these creates the regression line."
   ]
  },
  {
   "cell_type": "markdown",
   "metadata": {},
   "source": [
    "## Plot the Residuals"
   ]
  },
  {
   "cell_type": "code",
   "execution_count": 20,
   "metadata": {},
   "outputs": [
    {
     "data": {
      "text/plain": [
       "0     -6.295527\n",
       "1     -9.022142\n",
       "2     -1.241281\n",
       "3     -2.987481\n",
       "4      4.922832\n",
       "         ...   \n",
       "669   -8.841126\n",
       "670   -4.884505\n",
       "671   -2.734504\n",
       "672    0.618794\n",
       "673   -4.324504\n",
       "Length: 674, dtype: float64"
      ]
     },
     "execution_count": 20,
     "metadata": {},
     "output_type": "execute_result"
    }
   ],
   "source": [
    "results.resid"
   ]
  },
  {
   "cell_type": "markdown",
   "metadata": {},
   "source": [
    "**Comments**: \n",
    "\n",
    "  - Recall that `results` is the final object from our regression code. It contains all the information of that regression.\n",
    "  \n",
    "  - As we mentioned before, `results` has many attributes. You have seen `results.summary()` and `results.params` that gives the summary of the regression and the regression coefficients respectively.\n",
    "  \n",
    "  - Similarly, the `results` also stored all the residuals from the regression. `results.resid` calls out the residuals, as you can see from above output."
   ]
  },
  {
   "cell_type": "code",
   "execution_count": 21,
   "metadata": {},
   "outputs": [
    {
     "data": {
      "text/html": [
       "<div>\n",
       "<style scoped>\n",
       "    .dataframe tbody tr th:only-of-type {\n",
       "        vertical-align: middle;\n",
       "    }\n",
       "\n",
       "    .dataframe tbody tr th {\n",
       "        vertical-align: top;\n",
       "    }\n",
       "\n",
       "    .dataframe thead th {\n",
       "        text-align: right;\n",
       "    }\n",
       "</style>\n",
       "<table border=\"1\" class=\"dataframe\">\n",
       "  <thead>\n",
       "    <tr style=\"text-align: right;\">\n",
       "      <th></th>\n",
       "      <th>first</th>\n",
       "      <th>educ</th>\n",
       "      <th>educt</th>\n",
       "      <th>hrwage</th>\n",
       "      <th>lwage</th>\n",
       "      <th>age</th>\n",
       "      <th>white</th>\n",
       "      <th>female</th>\n",
       "      <th>educt_t</th>\n",
       "      <th>age2</th>\n",
       "      <th>dlwage</th>\n",
       "      <th>deduc</th>\n",
       "      <th>deduct</th>\n",
       "      <th>resid</th>\n",
       "    </tr>\n",
       "  </thead>\n",
       "  <tbody>\n",
       "    <tr>\n",
       "      <th>0</th>\n",
       "      <td>1.0</td>\n",
       "      <td>16.0</td>\n",
       "      <td>16.0</td>\n",
       "      <td>11.935573</td>\n",
       "      <td>2.479523</td>\n",
       "      <td>33.251190</td>\n",
       "      <td>1</td>\n",
       "      <td>1</td>\n",
       "      <td>16.0</td>\n",
       "      <td>1105.64160</td>\n",
       "      <td>0.259346</td>\n",
       "      <td>0.0</td>\n",
       "      <td>0.0</td>\n",
       "      <td>-6.295527</td>\n",
       "    </tr>\n",
       "    <tr>\n",
       "      <th>1</th>\n",
       "      <td>NaN</td>\n",
       "      <td>16.0</td>\n",
       "      <td>16.0</td>\n",
       "      <td>9.208958</td>\n",
       "      <td>2.220177</td>\n",
       "      <td>33.251190</td>\n",
       "      <td>1</td>\n",
       "      <td>1</td>\n",
       "      <td>16.0</td>\n",
       "      <td>1105.64160</td>\n",
       "      <td>-0.259346</td>\n",
       "      <td>0.0</td>\n",
       "      <td>0.0</td>\n",
       "      <td>-9.022142</td>\n",
       "    </tr>\n",
       "    <tr>\n",
       "      <th>2</th>\n",
       "      <td>NaN</td>\n",
       "      <td>12.0</td>\n",
       "      <td>16.0</td>\n",
       "      <td>9.283223</td>\n",
       "      <td>2.228209</td>\n",
       "      <td>43.570145</td>\n",
       "      <td>1</td>\n",
       "      <td>1</td>\n",
       "      <td>12.0</td>\n",
       "      <td>1898.35750</td>\n",
       "      <td>-0.721318</td>\n",
       "      <td>-6.0</td>\n",
       "      <td>-4.0</td>\n",
       "      <td>-1.241281</td>\n",
       "    </tr>\n",
       "    <tr>\n",
       "      <th>3</th>\n",
       "      <td>1.0</td>\n",
       "      <td>18.0</td>\n",
       "      <td>12.0</td>\n",
       "      <td>19.096916</td>\n",
       "      <td>2.949527</td>\n",
       "      <td>43.570145</td>\n",
       "      <td>1</td>\n",
       "      <td>1</td>\n",
       "      <td>16.0</td>\n",
       "      <td>1898.35750</td>\n",
       "      <td>0.721318</td>\n",
       "      <td>6.0</td>\n",
       "      <td>4.0</td>\n",
       "      <td>-2.987481</td>\n",
       "    </tr>\n",
       "    <tr>\n",
       "      <th>4</th>\n",
       "      <td>NaN</td>\n",
       "      <td>12.0</td>\n",
       "      <td>12.0</td>\n",
       "      <td>15.447336</td>\n",
       "      <td>2.728481</td>\n",
       "      <td>30.983910</td>\n",
       "      <td>1</td>\n",
       "      <td>0</td>\n",
       "      <td>12.0</td>\n",
       "      <td>960.00262</td>\n",
       "      <td>-0.129809</td>\n",
       "      <td>0.0</td>\n",
       "      <td>0.0</td>\n",
       "      <td>4.922832</td>\n",
       "    </tr>\n",
       "  </tbody>\n",
       "</table>\n",
       "</div>"
      ],
      "text/plain": [
       "   first  educ  educt     hrwage     lwage        age  white  female  educt_t  \\\n",
       "0    1.0  16.0   16.0  11.935573  2.479523  33.251190      1       1     16.0   \n",
       "1    NaN  16.0   16.0   9.208958  2.220177  33.251190      1       1     16.0   \n",
       "2    NaN  12.0   16.0   9.283223  2.228209  43.570145      1       1     12.0   \n",
       "3    1.0  18.0   12.0  19.096916  2.949527  43.570145      1       1     16.0   \n",
       "4    NaN  12.0   12.0  15.447336  2.728481  30.983910      1       0     12.0   \n",
       "\n",
       "         age2    dlwage  deduc  deduct     resid  \n",
       "0  1105.64160  0.259346    0.0     0.0 -6.295527  \n",
       "1  1105.64160 -0.259346    0.0     0.0 -9.022142  \n",
       "2  1898.35750 -0.721318   -6.0    -4.0 -1.241281  \n",
       "3  1898.35750  0.721318    6.0     4.0 -2.987481  \n",
       "4   960.00262 -0.129809    0.0     0.0  4.922832  "
      ]
     },
     "execution_count": 21,
     "metadata": {},
     "output_type": "execute_result"
    }
   ],
   "source": [
    "df['resid'] = results.resid\n",
    "df.head()"
   ]
  },
  {
   "cell_type": "markdown",
   "metadata": {},
   "source": [
    "**Comments**:\n",
    "\n",
    "  - We want to create a new column named `resid` in our dataset `df`.\n",
    "  - Recall that `results.resid` gives all the residuals from the regression. \n",
    "  - In the code :\n",
    "    - `df['resid']` asks python to add a column named `resid` to dataset `df`\n",
    "    - then we have to assign the values from `results.resid` to this new column by setting `df['resid'] = results.resid`\n",
    "  - Take a look at the head of the dataset `df`: now `resid` is the last column in the dataset\n",
    "\n",
    "\n",
    "Below is the standard code for create the scatter plot that we have seen beofre. Are the residuals homoskedastic or heteroskedastic?"
   ]
  },
  {
   "cell_type": "code",
   "execution_count": 22,
   "metadata": {},
   "outputs": [
    {
     "data": {
      "image/png": "[encoded data removed]",
      "text/plain": [
       "<Figure size 432x288 with 1 Axes>"
      ]
     },
     "metadata": {},
     "output_type": "display_data"
    }
   ],
   "source": [
    "plt.scatter(df['educ'], df['resid'])\n",
    "plt.xlabel('years of education')\n",
    "plt.ylabel('regression residuals')\n",
    "plt.title('Scatter Plot of Regression Residuals Against Years of Education')\n",
    "plt.show()"
   ]
  },
  {
   "cell_type": "markdown",
   "metadata": {},
   "source": [
    "# Regression with Multiple Regressors\n",
    "\n",
    "Recall our regression model\n",
    "\n",
    "$$\n",
    "Y_i = \\beta_0 + \\beta_1 X_{1i} + \\beta_2 X_{2i} + \\cdots + \\beta_k X_{ki} + u_i\n",
    "$$\n",
    "\n",
    "As the explicit formula for OLS estimators of $\\beta_0,\\beta_1,\\cdots,\\beta_k$ are complicated, in practice, we rely on the statistical softwares. In this section, we are going to extend our previous codes to multiple regression setting.\n"
   ]
  },
  {
   "cell_type": "markdown",
   "metadata": {},
   "source": [
    "## Additional Regressors\n",
    "\n",
    "We will continue use our original dataset. Are there any other factors other than education that are associated with wage? We start by considering adding regressor `age` to the model"
   ]
  },
  {
   "cell_type": "code",
   "execution_count": 23,
   "metadata": {},
   "outputs": [
    {
     "name": "stdout",
     "output_type": "stream",
     "text": [
      "                            OLS Regression Results                            \n",
      "==============================================================================\n",
      "Dep. Variable:                 hrwage   R-squared:                       0.165\n",
      "Model:                            OLS   Adj. R-squared:                  0.162\n",
      "Method:                 Least Squares   F-statistic:                     28.31\n",
      "Date:                Sun, 02 Aug 2020   Prob (F-statistic):           1.57e-12\n",
      "Time:                        13:59:53   Log-Likelihood:                -2626.6\n",
      "No. Observations:                 674   AIC:                             5259.\n",
      "Df Residuals:                     671   BIC:                             5273.\n",
      "Df Model:                           2                                         \n",
      "Covariance Type:                  HC1                                         \n",
      "==============================================================================\n",
      "                 coef    std err          z      P>|z|      [0.025      0.975]\n",
      "------------------------------------------------------------------------------\n",
      "Intercept    -27.9905      5.497     -5.092      0.000     -38.764     -17.217\n",
      "educ           2.2003      0.293      7.505      0.000       1.626       2.775\n",
      "age            0.3035      0.056      5.372      0.000       0.193       0.414\n",
      "==============================================================================\n",
      "Omnibus:                      629.267   Durbin-Watson:                   1.547\n",
      "Prob(Omnibus):                  0.000   Jarque-Bera (JB):            22518.519\n",
      "Skew:                           4.175   Prob(JB):                         0.00\n",
      "Kurtosis:                      30.058   Cond. No.                         343.\n",
      "==============================================================================\n",
      "\n",
      "Warnings:\n",
      "[1] Standard Errors are heteroscedasticity robust (HC1)\n"
     ]
    }
   ],
   "source": [
    "model2 = smf.ols(formula = \"hrwage ~ educ + age\", data = df)\n",
    "results2 = model2.fit(cov_type = 'HC1')\n",
    "print(results2.summary())"
   ]
  },
  {
   "cell_type": "markdown",
   "metadata": {},
   "source": [
    "**Comments**:\n",
    "  - The code is almost identical to the simple regression case.\n",
    "  - `smf.ols()` calls the `ols()` function from library `statsmodels.formula` which we nicknamed as `smf`.\n",
    "  - In side the parentheses of `smf.ols(formula = \"hrwage ~ educ + age\", data = df)`:\n",
    "    - we first specify the regression formula: `formula = \"hrwage ~ educ + age\"`:\n",
    "      - the dependent variable is `hrwage`\n",
    "      - the regressors are `educ` and `age`\n",
    "      - they are separated by `~`.\n",
    "      - the constant is automatically included.\n",
    "      - the fomula has to be in quotation marks `\" \"`\n",
    "  - Then we have to specify what dataset we are using `data = df`.\n",
    "\n",
    "\n",
    "The interpretation of the regression table is exactly the same as in the simple regression case. Refer to section 5.1 for details."
   ]
  },
  {
   "cell_type": "markdown",
   "metadata": {},
   "source": [
    "### Adding Binary Regressor\n",
    "\n",
    "The variable `female` is a binary variable:\n",
    "\n",
    "  - `female = 1` if the respondent is female, `female = 0` for otherwise\n",
    "  \n",
    "We include can include this binary variable in the regression as well:\n",
    "\n",
    "Bonus Question: How would you interterpret the regression coefficient on `female`?"
   ]
  },
  {
   "cell_type": "code",
   "execution_count": 24,
   "metadata": {
    "scrolled": false
   },
   "outputs": [
    {
     "name": "stdout",
     "output_type": "stream",
     "text": [
      "                            OLS Regression Results                            \n",
      "==============================================================================\n",
      "Dep. Variable:                 hrwage   R-squared:                       0.209\n",
      "Model:                            OLS   Adj. R-squared:                  0.205\n",
      "Method:                 Least Squares   F-statistic:                     21.54\n",
      "Date:                Sun, 02 Aug 2020   Prob (F-statistic):           2.51e-13\n",
      "Time:                        13:59:54   Log-Likelihood:                -2608.4\n",
      "No. Observations:                 674   AIC:                             5225.\n",
      "Df Residuals:                     670   BIC:                             5243.\n",
      "Df Model:                           3                                         \n",
      "Covariance Type:                  HC1                                         \n",
      "==============================================================================\n",
      "                 coef    std err          z      P>|z|      [0.025      0.975]\n",
      "------------------------------------------------------------------------------\n",
      "Intercept    -22.4813      4.963     -4.530      0.000     -32.209     -12.754\n",
      "educ           2.0789      0.276      7.540      0.000       1.538       2.619\n",
      "age            0.2910      0.054      5.375      0.000       0.185       0.397\n",
      "female        -5.5977      0.976     -5.736      0.000      -7.510      -3.685\n",
      "==============================================================================\n",
      "Omnibus:                      615.803   Durbin-Watson:                   1.557\n",
      "Prob(Omnibus):                  0.000   Jarque-Bera (JB):            21391.259\n",
      "Skew:                           4.041   Prob(JB):                         0.00\n",
      "Kurtosis:                      29.389   Cond. No.                         354.\n",
      "==============================================================================\n",
      "\n",
      "Warnings:\n",
      "[1] Standard Errors are heteroscedasticity robust (HC1)\n"
     ]
    }
   ],
   "source": [
    "model3 = smf.ols(formula = \"hrwage ~ educ + age + female\", data = df)\n",
    "results3 = model3.fit(cov_type = 'HC1')\n",
    "print(results3.summary())"
   ]
  },
  {
   "cell_type": "markdown",
   "metadata": {},
   "source": [
    "## Transformation of Dependent Variable and Regressors\n",
    "\n",
    "In this section, we are going to take a look at how to transform the regressors in the regression. There are two ways:\n",
    "\n",
    "  1. edit data directly, which you have seen when we add the residuals to the dataset;\n",
    "  \n",
    "  2. modify the regression formula. (Won't discussed in this class)\n",
    "  \n",
    "The first method is foolproof, and we will focus on that. The second method is elective."
   ]
  },
  {
   "cell_type": "markdown",
   "metadata": {},
   "source": [
    "### Add Transformed Variables to the Dataset"
   ]
  },
  {
   "cell_type": "markdown",
   "metadata": {},
   "source": [
    "(1) Suppose we want to add natural log of wage to the dataset:"
   ]
  },
  {
   "cell_type": "code",
   "execution_count": 25,
   "metadata": {},
   "outputs": [
    {
     "data": {
      "text/html": [
       "<div>\n",
       "<style scoped>\n",
       "    .dataframe tbody tr th:only-of-type {\n",
       "        vertical-align: middle;\n",
       "    }\n",
       "\n",
       "    .dataframe tbody tr th {\n",
       "        vertical-align: top;\n",
       "    }\n",
       "\n",
       "    .dataframe thead th {\n",
       "        text-align: right;\n",
       "    }\n",
       "</style>\n",
       "<table border=\"1\" class=\"dataframe\">\n",
       "  <thead>\n",
       "    <tr style=\"text-align: right;\">\n",
       "      <th></th>\n",
       "      <th>first</th>\n",
       "      <th>educ</th>\n",
       "      <th>educt</th>\n",
       "      <th>hrwage</th>\n",
       "      <th>lwage</th>\n",
       "      <th>age</th>\n",
       "      <th>white</th>\n",
       "      <th>female</th>\n",
       "      <th>educt_t</th>\n",
       "      <th>age2</th>\n",
       "      <th>dlwage</th>\n",
       "      <th>deduc</th>\n",
       "      <th>deduct</th>\n",
       "      <th>resid</th>\n",
       "      <th>logwage</th>\n",
       "    </tr>\n",
       "  </thead>\n",
       "  <tbody>\n",
       "    <tr>\n",
       "      <th>0</th>\n",
       "      <td>1.0</td>\n",
       "      <td>16.0</td>\n",
       "      <td>16.0</td>\n",
       "      <td>11.935573</td>\n",
       "      <td>2.479523</td>\n",
       "      <td>33.251190</td>\n",
       "      <td>1</td>\n",
       "      <td>1</td>\n",
       "      <td>16.0</td>\n",
       "      <td>1105.64160</td>\n",
       "      <td>0.259346</td>\n",
       "      <td>0.0</td>\n",
       "      <td>0.0</td>\n",
       "      <td>-6.295527</td>\n",
       "      <td>2.479523</td>\n",
       "    </tr>\n",
       "    <tr>\n",
       "      <th>1</th>\n",
       "      <td>NaN</td>\n",
       "      <td>16.0</td>\n",
       "      <td>16.0</td>\n",
       "      <td>9.208958</td>\n",
       "      <td>2.220177</td>\n",
       "      <td>33.251190</td>\n",
       "      <td>1</td>\n",
       "      <td>1</td>\n",
       "      <td>16.0</td>\n",
       "      <td>1105.64160</td>\n",
       "      <td>-0.259346</td>\n",
       "      <td>0.0</td>\n",
       "      <td>0.0</td>\n",
       "      <td>-9.022142</td>\n",
       "      <td>2.220177</td>\n",
       "    </tr>\n",
       "    <tr>\n",
       "      <th>2</th>\n",
       "      <td>NaN</td>\n",
       "      <td>12.0</td>\n",
       "      <td>16.0</td>\n",
       "      <td>9.283223</td>\n",
       "      <td>2.228209</td>\n",
       "      <td>43.570145</td>\n",
       "      <td>1</td>\n",
       "      <td>1</td>\n",
       "      <td>12.0</td>\n",
       "      <td>1898.35750</td>\n",
       "      <td>-0.721318</td>\n",
       "      <td>-6.0</td>\n",
       "      <td>-4.0</td>\n",
       "      <td>-1.241281</td>\n",
       "      <td>2.228209</td>\n",
       "    </tr>\n",
       "    <tr>\n",
       "      <th>3</th>\n",
       "      <td>1.0</td>\n",
       "      <td>18.0</td>\n",
       "      <td>12.0</td>\n",
       "      <td>19.096916</td>\n",
       "      <td>2.949527</td>\n",
       "      <td>43.570145</td>\n",
       "      <td>1</td>\n",
       "      <td>1</td>\n",
       "      <td>16.0</td>\n",
       "      <td>1898.35750</td>\n",
       "      <td>0.721318</td>\n",
       "      <td>6.0</td>\n",
       "      <td>4.0</td>\n",
       "      <td>-2.987481</td>\n",
       "      <td>2.949527</td>\n",
       "    </tr>\n",
       "    <tr>\n",
       "      <th>4</th>\n",
       "      <td>NaN</td>\n",
       "      <td>12.0</td>\n",
       "      <td>12.0</td>\n",
       "      <td>15.447336</td>\n",
       "      <td>2.728481</td>\n",
       "      <td>30.983910</td>\n",
       "      <td>1</td>\n",
       "      <td>0</td>\n",
       "      <td>12.0</td>\n",
       "      <td>960.00262</td>\n",
       "      <td>-0.129809</td>\n",
       "      <td>0.0</td>\n",
       "      <td>0.0</td>\n",
       "      <td>4.922832</td>\n",
       "      <td>2.737437</td>\n",
       "    </tr>\n",
       "  </tbody>\n",
       "</table>\n",
       "</div>"
      ],
      "text/plain": [
       "   first  educ  educt     hrwage     lwage        age  white  female  educt_t  \\\n",
       "0    1.0  16.0   16.0  11.935573  2.479523  33.251190      1       1     16.0   \n",
       "1    NaN  16.0   16.0   9.208958  2.220177  33.251190      1       1     16.0   \n",
       "2    NaN  12.0   16.0   9.283223  2.228209  43.570145      1       1     12.0   \n",
       "3    1.0  18.0   12.0  19.096916  2.949527  43.570145      1       1     16.0   \n",
       "4    NaN  12.0   12.0  15.447336  2.728481  30.983910      1       0     12.0   \n",
       "\n",
       "         age2    dlwage  deduc  deduct     resid   logwage  \n",
       "0  1105.64160  0.259346    0.0     0.0 -6.295527  2.479523  \n",
       "1  1105.64160 -0.259346    0.0     0.0 -9.022142  2.220177  \n",
       "2  1898.35750 -0.721318   -6.0    -4.0 -1.241281  2.228209  \n",
       "3  1898.35750  0.721318    6.0     4.0 -2.987481  2.949527  \n",
       "4   960.00262 -0.129809    0.0     0.0  4.922832  2.737437  "
      ]
     },
     "execution_count": 25,
     "metadata": {},
     "output_type": "execute_result"
    }
   ],
   "source": [
    "df['logwage'] = np.log(df['hrwage'])\n",
    "df.head()"
   ]
  },
  {
   "cell_type": "markdown",
   "metadata": {},
   "source": [
    "**Comments**:\n",
    "  - We want to create a new variable named `logwage` in our dataset `df`.\n",
    "  - In the code :\n",
    "  \n",
    "    - `df['logwage']` asks python to add a column named `logwage` to dataset `df`\n",
    "    \n",
    "    - In `np.log(df['hrwage'])`\n",
    "      - `np.log()` is the natural log function from package `np`. This function can be applied to either a single number, or a vector of numbers.\n",
    "      - Inside the parentheses, we input the object we want to take log, in this case, the `df['hrwage']`\n",
    "      - `np.log(df['hrwage'])` will then create a new column of natural log of hourly wage.\n",
    "      \n",
    "    - then we assign the values to this new column by setting `df['resid'] = results.resid`\n",
    "    \n",
    "  - Take a look at the head of the dataset `df`: now `logwage` is the last column in the dataset that consists the natural log of hourly wage."
   ]
  },
  {
   "cell_type": "markdown",
   "metadata": {},
   "source": [
    "(2) Suppose we want to create a new variable, \"potential experience\", which is defined as\n",
    "\n",
    "$$ \\text{potential experience} = \\text{age} - \\text{years of education} - 7 $$\n",
    "\n",
    "Let's create the variable, potential experience, and name it `pexp`"
   ]
  },
  {
   "cell_type": "code",
   "execution_count": 26,
   "metadata": {},
   "outputs": [
    {
     "data": {
      "text/html": [
       "<div>\n",
       "<style scoped>\n",
       "    .dataframe tbody tr th:only-of-type {\n",
       "        vertical-align: middle;\n",
       "    }\n",
       "\n",
       "    .dataframe tbody tr th {\n",
       "        vertical-align: top;\n",
       "    }\n",
       "\n",
       "    .dataframe thead th {\n",
       "        text-align: right;\n",
       "    }\n",
       "</style>\n",
       "<table border=\"1\" class=\"dataframe\">\n",
       "  <thead>\n",
       "    <tr style=\"text-align: right;\">\n",
       "      <th></th>\n",
       "      <th>first</th>\n",
       "      <th>educ</th>\n",
       "      <th>educt</th>\n",
       "      <th>hrwage</th>\n",
       "      <th>lwage</th>\n",
       "      <th>age</th>\n",
       "      <th>white</th>\n",
       "      <th>female</th>\n",
       "      <th>educt_t</th>\n",
       "      <th>age2</th>\n",
       "      <th>dlwage</th>\n",
       "      <th>deduc</th>\n",
       "      <th>deduct</th>\n",
       "      <th>resid</th>\n",
       "      <th>logwage</th>\n",
       "      <th>pexp</th>\n",
       "    </tr>\n",
       "  </thead>\n",
       "  <tbody>\n",
       "    <tr>\n",
       "      <th>0</th>\n",
       "      <td>1.0</td>\n",
       "      <td>16.0</td>\n",
       "      <td>16.0</td>\n",
       "      <td>11.935573</td>\n",
       "      <td>2.479523</td>\n",
       "      <td>33.251190</td>\n",
       "      <td>1</td>\n",
       "      <td>1</td>\n",
       "      <td>16.0</td>\n",
       "      <td>1105.64160</td>\n",
       "      <td>0.259346</td>\n",
       "      <td>0.0</td>\n",
       "      <td>0.0</td>\n",
       "      <td>-6.295527</td>\n",
       "      <td>2.479523</td>\n",
       "      <td>10.251190</td>\n",
       "    </tr>\n",
       "    <tr>\n",
       "      <th>1</th>\n",
       "      <td>NaN</td>\n",
       "      <td>16.0</td>\n",
       "      <td>16.0</td>\n",
       "      <td>9.208958</td>\n",
       "      <td>2.220177</td>\n",
       "      <td>33.251190</td>\n",
       "      <td>1</td>\n",
       "      <td>1</td>\n",
       "      <td>16.0</td>\n",
       "      <td>1105.64160</td>\n",
       "      <td>-0.259346</td>\n",
       "      <td>0.0</td>\n",
       "      <td>0.0</td>\n",
       "      <td>-9.022142</td>\n",
       "      <td>2.220177</td>\n",
       "      <td>10.251190</td>\n",
       "    </tr>\n",
       "    <tr>\n",
       "      <th>2</th>\n",
       "      <td>NaN</td>\n",
       "      <td>12.0</td>\n",
       "      <td>16.0</td>\n",
       "      <td>9.283223</td>\n",
       "      <td>2.228209</td>\n",
       "      <td>43.570145</td>\n",
       "      <td>1</td>\n",
       "      <td>1</td>\n",
       "      <td>12.0</td>\n",
       "      <td>1898.35750</td>\n",
       "      <td>-0.721318</td>\n",
       "      <td>-6.0</td>\n",
       "      <td>-4.0</td>\n",
       "      <td>-1.241281</td>\n",
       "      <td>2.228209</td>\n",
       "      <td>24.570145</td>\n",
       "    </tr>\n",
       "    <tr>\n",
       "      <th>3</th>\n",
       "      <td>1.0</td>\n",
       "      <td>18.0</td>\n",
       "      <td>12.0</td>\n",
       "      <td>19.096916</td>\n",
       "      <td>2.949527</td>\n",
       "      <td>43.570145</td>\n",
       "      <td>1</td>\n",
       "      <td>1</td>\n",
       "      <td>16.0</td>\n",
       "      <td>1898.35750</td>\n",
       "      <td>0.721318</td>\n",
       "      <td>6.0</td>\n",
       "      <td>4.0</td>\n",
       "      <td>-2.987481</td>\n",
       "      <td>2.949527</td>\n",
       "      <td>18.570145</td>\n",
       "    </tr>\n",
       "    <tr>\n",
       "      <th>4</th>\n",
       "      <td>NaN</td>\n",
       "      <td>12.0</td>\n",
       "      <td>12.0</td>\n",
       "      <td>15.447336</td>\n",
       "      <td>2.728481</td>\n",
       "      <td>30.983910</td>\n",
       "      <td>1</td>\n",
       "      <td>0</td>\n",
       "      <td>12.0</td>\n",
       "      <td>960.00262</td>\n",
       "      <td>-0.129809</td>\n",
       "      <td>0.0</td>\n",
       "      <td>0.0</td>\n",
       "      <td>4.922832</td>\n",
       "      <td>2.737437</td>\n",
       "      <td>11.983910</td>\n",
       "    </tr>\n",
       "  </tbody>\n",
       "</table>\n",
       "</div>"
      ],
      "text/plain": [
       "   first  educ  educt     hrwage     lwage        age  white  female  educt_t  \\\n",
       "0    1.0  16.0   16.0  11.935573  2.479523  33.251190      1       1     16.0   \n",
       "1    NaN  16.0   16.0   9.208958  2.220177  33.251190      1       1     16.0   \n",
       "2    NaN  12.0   16.0   9.283223  2.228209  43.570145      1       1     12.0   \n",
       "3    1.0  18.0   12.0  19.096916  2.949527  43.570145      1       1     16.0   \n",
       "4    NaN  12.0   12.0  15.447336  2.728481  30.983910      1       0     12.0   \n",
       "\n",
       "         age2    dlwage  deduc  deduct     resid   logwage       pexp  \n",
       "0  1105.64160  0.259346    0.0     0.0 -6.295527  2.479523  10.251190  \n",
       "1  1105.64160 -0.259346    0.0     0.0 -9.022142  2.220177  10.251190  \n",
       "2  1898.35750 -0.721318   -6.0    -4.0 -1.241281  2.228209  24.570145  \n",
       "3  1898.35750  0.721318    6.0     4.0 -2.987481  2.949527  18.570145  \n",
       "4   960.00262 -0.129809    0.0     0.0  4.922832  2.737437  11.983910  "
      ]
     },
     "execution_count": 26,
     "metadata": {},
     "output_type": "execute_result"
    }
   ],
   "source": [
    "df['pexp'] = df['age'] - df['educ'] - 7\n",
    "df.head()"
   ]
  },
  {
   "cell_type": "markdown",
   "metadata": {},
   "source": [
    "**Comments**:\n",
    "  - as before, `df['pexp']` asks python to add a column named `pexp` to dataset `df`\n",
    "  - the rest is just simple mathematical operation.\n",
    "  \n",
    "**Commonly Used Arithmic Operations**:\n",
    "  - $x+y$ will be coded exactly as `x+y`\n",
    "  - $x-y$ will be coded exactly as `x-y`\n",
    "  - $x\\times y$ will be coded as `x*y`, where the sigle star `*` is the multiplication sign\n",
    "  - $\\frac{x}{y}$ will be coded as `x/y`\n",
    "  - $x^y$ will be coded as `x**y`, where the double star `**` is the power operation\n",
    "  \n",
    "Let's create another variable, squared potential experience, and let's name it `pexp2`"
   ]
  },
  {
   "cell_type": "code",
   "execution_count": 27,
   "metadata": {},
   "outputs": [
    {
     "data": {
      "text/html": [
       "<div>\n",
       "<style scoped>\n",
       "    .dataframe tbody tr th:only-of-type {\n",
       "        vertical-align: middle;\n",
       "    }\n",
       "\n",
       "    .dataframe tbody tr th {\n",
       "        vertical-align: top;\n",
       "    }\n",
       "\n",
       "    .dataframe thead th {\n",
       "        text-align: right;\n",
       "    }\n",
       "</style>\n",
       "<table border=\"1\" class=\"dataframe\">\n",
       "  <thead>\n",
       "    <tr style=\"text-align: right;\">\n",
       "      <th></th>\n",
       "      <th>first</th>\n",
       "      <th>educ</th>\n",
       "      <th>educt</th>\n",
       "      <th>hrwage</th>\n",
       "      <th>lwage</th>\n",
       "      <th>age</th>\n",
       "      <th>white</th>\n",
       "      <th>female</th>\n",
       "      <th>educt_t</th>\n",
       "      <th>age2</th>\n",
       "      <th>dlwage</th>\n",
       "      <th>deduc</th>\n",
       "      <th>deduct</th>\n",
       "      <th>resid</th>\n",
       "      <th>logwage</th>\n",
       "      <th>pexp</th>\n",
       "      <th>pexp2</th>\n",
       "    </tr>\n",
       "  </thead>\n",
       "  <tbody>\n",
       "    <tr>\n",
       "      <th>0</th>\n",
       "      <td>1.0</td>\n",
       "      <td>16.0</td>\n",
       "      <td>16.0</td>\n",
       "      <td>11.935573</td>\n",
       "      <td>2.479523</td>\n",
       "      <td>33.251190</td>\n",
       "      <td>1</td>\n",
       "      <td>1</td>\n",
       "      <td>16.0</td>\n",
       "      <td>1105.64160</td>\n",
       "      <td>0.259346</td>\n",
       "      <td>0.0</td>\n",
       "      <td>0.0</td>\n",
       "      <td>-6.295527</td>\n",
       "      <td>2.479523</td>\n",
       "      <td>10.251190</td>\n",
       "      <td>105.086896</td>\n",
       "    </tr>\n",
       "    <tr>\n",
       "      <th>1</th>\n",
       "      <td>NaN</td>\n",
       "      <td>16.0</td>\n",
       "      <td>16.0</td>\n",
       "      <td>9.208958</td>\n",
       "      <td>2.220177</td>\n",
       "      <td>33.251190</td>\n",
       "      <td>1</td>\n",
       "      <td>1</td>\n",
       "      <td>16.0</td>\n",
       "      <td>1105.64160</td>\n",
       "      <td>-0.259346</td>\n",
       "      <td>0.0</td>\n",
       "      <td>0.0</td>\n",
       "      <td>-9.022142</td>\n",
       "      <td>2.220177</td>\n",
       "      <td>10.251190</td>\n",
       "      <td>105.086896</td>\n",
       "    </tr>\n",
       "    <tr>\n",
       "      <th>2</th>\n",
       "      <td>NaN</td>\n",
       "      <td>12.0</td>\n",
       "      <td>16.0</td>\n",
       "      <td>9.283223</td>\n",
       "      <td>2.228209</td>\n",
       "      <td>43.570145</td>\n",
       "      <td>1</td>\n",
       "      <td>1</td>\n",
       "      <td>12.0</td>\n",
       "      <td>1898.35750</td>\n",
       "      <td>-0.721318</td>\n",
       "      <td>-6.0</td>\n",
       "      <td>-4.0</td>\n",
       "      <td>-1.241281</td>\n",
       "      <td>2.228209</td>\n",
       "      <td>24.570145</td>\n",
       "      <td>603.692025</td>\n",
       "    </tr>\n",
       "    <tr>\n",
       "      <th>3</th>\n",
       "      <td>1.0</td>\n",
       "      <td>18.0</td>\n",
       "      <td>12.0</td>\n",
       "      <td>19.096916</td>\n",
       "      <td>2.949527</td>\n",
       "      <td>43.570145</td>\n",
       "      <td>1</td>\n",
       "      <td>1</td>\n",
       "      <td>16.0</td>\n",
       "      <td>1898.35750</td>\n",
       "      <td>0.721318</td>\n",
       "      <td>6.0</td>\n",
       "      <td>4.0</td>\n",
       "      <td>-2.987481</td>\n",
       "      <td>2.949527</td>\n",
       "      <td>18.570145</td>\n",
       "      <td>344.850285</td>\n",
       "    </tr>\n",
       "    <tr>\n",
       "      <th>4</th>\n",
       "      <td>NaN</td>\n",
       "      <td>12.0</td>\n",
       "      <td>12.0</td>\n",
       "      <td>15.447336</td>\n",
       "      <td>2.728481</td>\n",
       "      <td>30.983910</td>\n",
       "      <td>1</td>\n",
       "      <td>0</td>\n",
       "      <td>12.0</td>\n",
       "      <td>960.00262</td>\n",
       "      <td>-0.129809</td>\n",
       "      <td>0.0</td>\n",
       "      <td>0.0</td>\n",
       "      <td>4.922832</td>\n",
       "      <td>2.737437</td>\n",
       "      <td>11.983910</td>\n",
       "      <td>143.614099</td>\n",
       "    </tr>\n",
       "  </tbody>\n",
       "</table>\n",
       "</div>"
      ],
      "text/plain": [
       "   first  educ  educt     hrwage     lwage        age  white  female  educt_t  \\\n",
       "0    1.0  16.0   16.0  11.935573  2.479523  33.251190      1       1     16.0   \n",
       "1    NaN  16.0   16.0   9.208958  2.220177  33.251190      1       1     16.0   \n",
       "2    NaN  12.0   16.0   9.283223  2.228209  43.570145      1       1     12.0   \n",
       "3    1.0  18.0   12.0  19.096916  2.949527  43.570145      1       1     16.0   \n",
       "4    NaN  12.0   12.0  15.447336  2.728481  30.983910      1       0     12.0   \n",
       "\n",
       "         age2    dlwage  deduc  deduct     resid   logwage       pexp  \\\n",
       "0  1105.64160  0.259346    0.0     0.0 -6.295527  2.479523  10.251190   \n",
       "1  1105.64160 -0.259346    0.0     0.0 -9.022142  2.220177  10.251190   \n",
       "2  1898.35750 -0.721318   -6.0    -4.0 -1.241281  2.228209  24.570145   \n",
       "3  1898.35750  0.721318    6.0     4.0 -2.987481  2.949527  18.570145   \n",
       "4   960.00262 -0.129809    0.0     0.0  4.922832  2.737437  11.983910   \n",
       "\n",
       "        pexp2  \n",
       "0  105.086896  \n",
       "1  105.086896  \n",
       "2  603.692025  \n",
       "3  344.850285  \n",
       "4  143.614099  "
      ]
     },
     "execution_count": 27,
     "metadata": {},
     "output_type": "execute_result"
    }
   ],
   "source": [
    "df['pexp2'] = df['pexp']**2\n",
    "df.head()"
   ]
  },
  {
   "cell_type": "markdown",
   "metadata": {},
   "source": [
    "### Mincer Regression\n",
    "\n",
    "In labor economics, the most famous equation is the so called \"Mincer equation\", which explains the wage as a function of education and experience. It is specified as following:\n",
    "\n",
    "$$ \\text{log wage} = \\beta_0 + \\beta_1\\text{education} + \\beta_2\\text{potential experience} + \\beta_3(\\text{potential experience})^2 + \\text{residual} $$\n",
    "\n",
    "Let's use our transformed variables from previous section to run the Mincer regression."
   ]
  },
  {
   "cell_type": "code",
   "execution_count": 28,
   "metadata": {},
   "outputs": [
    {
     "name": "stdout",
     "output_type": "stream",
     "text": [
      "                            OLS Regression Results                            \n",
      "==============================================================================\n",
      "Dep. Variable:                logwage   R-squared:                       0.288\n",
      "Model:                            OLS   Adj. R-squared:                  0.284\n",
      "Method:                 Least Squares   F-statistic:                     74.50\n",
      "Date:                Sun, 02 Aug 2020   Prob (F-statistic):           1.36e-41\n",
      "Time:                        13:59:54   Log-Likelihood:                -526.84\n",
      "No. Observations:                 674   AIC:                             1062.\n",
      "Df Residuals:                     670   BIC:                             1080.\n",
      "Df Model:                           3                                         \n",
      "Covariance Type:                  HC1                                         \n",
      "==============================================================================\n",
      "                 coef    std err          z      P>|z|      [0.025      0.975]\n",
      "------------------------------------------------------------------------------\n",
      "Intercept     -0.0870      0.181     -0.482      0.630      -0.441       0.267\n",
      "educ           0.1405      0.011     12.247      0.000       0.118       0.163\n",
      "pexp           0.0595      0.006     10.251      0.000       0.048       0.071\n",
      "pexp2         -0.0010      0.000     -7.636      0.000      -0.001      -0.001\n",
      "==============================================================================\n",
      "Omnibus:                       58.208   Durbin-Watson:                   1.515\n",
      "Prob(Omnibus):                  0.000   Jarque-Bera (JB):              126.140\n",
      "Skew:                           0.504   Prob(JB):                     4.07e-28\n",
      "Kurtosis:                       4.864   Cond. No.                     5.46e+03\n",
      "==============================================================================\n",
      "\n",
      "Warnings:\n",
      "[1] Standard Errors are heteroscedasticity robust (HC1)\n",
      "[2] The condition number is large, 5.46e+03. This might indicate that there are\n",
      "strong multicollinearity or other numerical problems.\n"
     ]
    }
   ],
   "source": [
    "mincer = smf.ols(formula = \"logwage ~ educ + pexp + pexp2\", data = df)\n",
    "resultsm = mincer.fit(cov_type = 'HC1')\n",
    "print(resultsm.summary())"
   ]
  },
  {
   "cell_type": "markdown",
   "metadata": {},
   "source": [
    "Bonus Questions:\n",
    "  - How would you interpret the coefficient on educ?\n",
    "  - How would you interpret the relationship between potential experience and log earning?"
   ]
  },
  {
   "cell_type": "markdown",
   "metadata": {},
   "source": [
    "## Interaction Between Regressors\n",
    "\n",
    "In lecture, we have seen that we can include the interaction terms to allow difference in intercepts and difference in slopes in the regression for different groups. How do we do this in practice?\n",
    "\n",
    "  - Create new variables and add that to the dataset. This method always works and the codes are similar to those in section 6.2.\n",
    "  \n",
    "  - Alternatively, we can do this directly in the formula in `smf.ols`. Below we will show you both and you will see that they are indeed equivalent. \n",
    "  \n",
    "To best illustrate this, we will conduct a case study on gender-wage differential."
   ]
  },
  {
   "cell_type": "markdown",
   "metadata": {},
   "source": [
    "**Gender-Wage Differentials**\n",
    "\n",
    "We will run the following regression specification:\n",
    "\n",
    "$$\\text{hourly wage} = \\beta_0 + \\beta_1\\text{educ} + \\beta_2\\text{female} + \\beta_3(\\text{educ}\\times\\text{female}) + \\text{residual} $$"
   ]
  },
  {
   "cell_type": "markdown",
   "metadata": {},
   "source": [
    "### Using direct method\n",
    "\n",
    "First, let's start with the direct method by creating the interaction term as a new variable, which we name as `educ_f`."
   ]
  },
  {
   "cell_type": "code",
   "execution_count": 29,
   "metadata": {},
   "outputs": [
    {
     "data": {
      "text/html": [
       "<div>\n",
       "<style scoped>\n",
       "    .dataframe tbody tr th:only-of-type {\n",
       "        vertical-align: middle;\n",
       "    }\n",
       "\n",
       "    .dataframe tbody tr th {\n",
       "        vertical-align: top;\n",
       "    }\n",
       "\n",
       "    .dataframe thead th {\n",
       "        text-align: right;\n",
       "    }\n",
       "</style>\n",
       "<table border=\"1\" class=\"dataframe\">\n",
       "  <thead>\n",
       "    <tr style=\"text-align: right;\">\n",
       "      <th></th>\n",
       "      <th>first</th>\n",
       "      <th>educ</th>\n",
       "      <th>educt</th>\n",
       "      <th>hrwage</th>\n",
       "      <th>lwage</th>\n",
       "      <th>age</th>\n",
       "      <th>white</th>\n",
       "      <th>female</th>\n",
       "      <th>educt_t</th>\n",
       "      <th>age2</th>\n",
       "      <th>dlwage</th>\n",
       "      <th>deduc</th>\n",
       "      <th>deduct</th>\n",
       "      <th>resid</th>\n",
       "      <th>logwage</th>\n",
       "      <th>pexp</th>\n",
       "      <th>pexp2</th>\n",
       "      <th>educ_f</th>\n",
       "    </tr>\n",
       "  </thead>\n",
       "  <tbody>\n",
       "    <tr>\n",
       "      <th>0</th>\n",
       "      <td>1.0</td>\n",
       "      <td>16.0</td>\n",
       "      <td>16.0</td>\n",
       "      <td>11.935573</td>\n",
       "      <td>2.479523</td>\n",
       "      <td>33.251190</td>\n",
       "      <td>1</td>\n",
       "      <td>1</td>\n",
       "      <td>16.0</td>\n",
       "      <td>1105.64160</td>\n",
       "      <td>0.259346</td>\n",
       "      <td>0.0</td>\n",
       "      <td>0.0</td>\n",
       "      <td>-6.295527</td>\n",
       "      <td>2.479523</td>\n",
       "      <td>10.251190</td>\n",
       "      <td>105.086896</td>\n",
       "      <td>16.0</td>\n",
       "    </tr>\n",
       "    <tr>\n",
       "      <th>1</th>\n",
       "      <td>NaN</td>\n",
       "      <td>16.0</td>\n",
       "      <td>16.0</td>\n",
       "      <td>9.208958</td>\n",
       "      <td>2.220177</td>\n",
       "      <td>33.251190</td>\n",
       "      <td>1</td>\n",
       "      <td>1</td>\n",
       "      <td>16.0</td>\n",
       "      <td>1105.64160</td>\n",
       "      <td>-0.259346</td>\n",
       "      <td>0.0</td>\n",
       "      <td>0.0</td>\n",
       "      <td>-9.022142</td>\n",
       "      <td>2.220177</td>\n",
       "      <td>10.251190</td>\n",
       "      <td>105.086896</td>\n",
       "      <td>16.0</td>\n",
       "    </tr>\n",
       "    <tr>\n",
       "      <th>2</th>\n",
       "      <td>NaN</td>\n",
       "      <td>12.0</td>\n",
       "      <td>16.0</td>\n",
       "      <td>9.283223</td>\n",
       "      <td>2.228209</td>\n",
       "      <td>43.570145</td>\n",
       "      <td>1</td>\n",
       "      <td>1</td>\n",
       "      <td>12.0</td>\n",
       "      <td>1898.35750</td>\n",
       "      <td>-0.721318</td>\n",
       "      <td>-6.0</td>\n",
       "      <td>-4.0</td>\n",
       "      <td>-1.241281</td>\n",
       "      <td>2.228209</td>\n",
       "      <td>24.570145</td>\n",
       "      <td>603.692025</td>\n",
       "      <td>12.0</td>\n",
       "    </tr>\n",
       "    <tr>\n",
       "      <th>3</th>\n",
       "      <td>1.0</td>\n",
       "      <td>18.0</td>\n",
       "      <td>12.0</td>\n",
       "      <td>19.096916</td>\n",
       "      <td>2.949527</td>\n",
       "      <td>43.570145</td>\n",
       "      <td>1</td>\n",
       "      <td>1</td>\n",
       "      <td>16.0</td>\n",
       "      <td>1898.35750</td>\n",
       "      <td>0.721318</td>\n",
       "      <td>6.0</td>\n",
       "      <td>4.0</td>\n",
       "      <td>-2.987481</td>\n",
       "      <td>2.949527</td>\n",
       "      <td>18.570145</td>\n",
       "      <td>344.850285</td>\n",
       "      <td>18.0</td>\n",
       "    </tr>\n",
       "    <tr>\n",
       "      <th>4</th>\n",
       "      <td>NaN</td>\n",
       "      <td>12.0</td>\n",
       "      <td>12.0</td>\n",
       "      <td>15.447336</td>\n",
       "      <td>2.728481</td>\n",
       "      <td>30.983910</td>\n",
       "      <td>1</td>\n",
       "      <td>0</td>\n",
       "      <td>12.0</td>\n",
       "      <td>960.00262</td>\n",
       "      <td>-0.129809</td>\n",
       "      <td>0.0</td>\n",
       "      <td>0.0</td>\n",
       "      <td>4.922832</td>\n",
       "      <td>2.737437</td>\n",
       "      <td>11.983910</td>\n",
       "      <td>143.614099</td>\n",
       "      <td>0.0</td>\n",
       "    </tr>\n",
       "  </tbody>\n",
       "</table>\n",
       "</div>"
      ],
      "text/plain": [
       "   first  educ  educt     hrwage     lwage        age  white  female  educt_t  \\\n",
       "0    1.0  16.0   16.0  11.935573  2.479523  33.251190      1       1     16.0   \n",
       "1    NaN  16.0   16.0   9.208958  2.220177  33.251190      1       1     16.0   \n",
       "2    NaN  12.0   16.0   9.283223  2.228209  43.570145      1       1     12.0   \n",
       "3    1.0  18.0   12.0  19.096916  2.949527  43.570145      1       1     16.0   \n",
       "4    NaN  12.0   12.0  15.447336  2.728481  30.983910      1       0     12.0   \n",
       "\n",
       "         age2    dlwage  deduc  deduct     resid   logwage       pexp  \\\n",
       "0  1105.64160  0.259346    0.0     0.0 -6.295527  2.479523  10.251190   \n",
       "1  1105.64160 -0.259346    0.0     0.0 -9.022142  2.220177  10.251190   \n",
       "2  1898.35750 -0.721318   -6.0    -4.0 -1.241281  2.228209  24.570145   \n",
       "3  1898.35750  0.721318    6.0     4.0 -2.987481  2.949527  18.570145   \n",
       "4   960.00262 -0.129809    0.0     0.0  4.922832  2.737437  11.983910   \n",
       "\n",
       "        pexp2  educ_f  \n",
       "0  105.086896    16.0  \n",
       "1  105.086896    16.0  \n",
       "2  603.692025    12.0  \n",
       "3  344.850285    18.0  \n",
       "4  143.614099     0.0  "
      ]
     },
     "execution_count": 29,
     "metadata": {},
     "output_type": "execute_result"
    }
   ],
   "source": [
    "df['educ_f'] = df['educ']*df['female']\n",
    "df.head()"
   ]
  },
  {
   "cell_type": "code",
   "execution_count": 30,
   "metadata": {},
   "outputs": [
    {
     "name": "stdout",
     "output_type": "stream",
     "text": [
      "                            OLS Regression Results                            \n",
      "==============================================================================\n",
      "Dep. Variable:                 hrwage   R-squared:                       0.155\n",
      "Model:                            OLS   Adj. R-squared:                  0.151\n",
      "Method:                 Least Squares   F-statistic:                     29.80\n",
      "Date:                Sun, 02 Aug 2020   Prob (F-statistic):           4.28e-18\n",
      "Time:                        13:59:54   Log-Likelihood:                -2630.6\n",
      "No. Observations:                 674   AIC:                             5269.\n",
      "Df Residuals:                     670   BIC:                             5287.\n",
      "Df Model:                           3                                         \n",
      "Covariance Type:                  HC1                                         \n",
      "==============================================================================\n",
      "                 coef    std err          z      P>|z|      [0.025      0.975]\n",
      "------------------------------------------------------------------------------\n",
      "Intercept    -18.6312      7.473     -2.493      0.013     -33.277      -3.985\n",
      "educ           2.5974      0.570      4.559      0.000       1.481       3.714\n",
      "female        12.7693      7.906      1.615      0.106      -2.726      28.265\n",
      "educ_f        -1.3279      0.601     -2.210      0.027      -2.506      -0.150\n",
      "==============================================================================\n",
      "Omnibus:                      601.899   Durbin-Watson:                   1.518\n",
      "Prob(Omnibus):                  0.000   Jarque-Bera (JB):            19908.763\n",
      "Skew:                           3.914   Prob(JB):                         0.00\n",
      "Kurtosis:                      28.449   Cond. No.                         285.\n",
      "==============================================================================\n",
      "\n",
      "Warnings:\n",
      "[1] Standard Errors are heteroscedasticity robust (HC1)\n"
     ]
    }
   ],
   "source": [
    "model_f1 = smf.ols(formula = \"hrwage ~ educ + female + educ_f\", data = df)\n",
    "results_f1 = model_f1.fit(cov_type = 'HC1')\n",
    "print(results_f1.summary())"
   ]
  },
  {
   "cell_type": "markdown",
   "metadata": {},
   "source": [
    "**Comments**:\n",
    "  - First, we created the interaction term as the new variable just as before:\n",
    "    - `df['educ_f']` asks python to add a column named `educ_f` to dataset `df`;\n",
    "    - `df['educ']*df['female']` creates a new list of values by multiplies these two columns element by element;\n",
    "    - then we assign the created values to this new column by setting `df['educ_f'] = df['educ']*df['female']` \n",
    "    \n",
    "  - Second, we run the regression as usual and include `educ_f` as a new variable in the regression."
   ]
  },
  {
   "cell_type": "markdown",
   "metadata": {},
   "source": [
    "### Using the package option\n",
    "\n",
    "Second, we use the option provided by the function `smf.ols()`:"
   ]
  },
  {
   "cell_type": "code",
   "execution_count": 31,
   "metadata": {},
   "outputs": [
    {
     "name": "stdout",
     "output_type": "stream",
     "text": [
      "                            OLS Regression Results                            \n",
      "==============================================================================\n",
      "Dep. Variable:                 hrwage   R-squared:                       0.155\n",
      "Model:                            OLS   Adj. R-squared:                  0.151\n",
      "Method:                 Least Squares   F-statistic:                     29.80\n",
      "Date:                Sun, 02 Aug 2020   Prob (F-statistic):           4.28e-18\n",
      "Time:                        13:59:54   Log-Likelihood:                -2630.6\n",
      "No. Observations:                 674   AIC:                             5269.\n",
      "Df Residuals:                     670   BIC:                             5287.\n",
      "Df Model:                           3                                         \n",
      "Covariance Type:                  HC1                                         \n",
      "===============================================================================\n",
      "                  coef    std err          z      P>|z|      [0.025      0.975]\n",
      "-------------------------------------------------------------------------------\n",
      "Intercept     -18.6312      7.473     -2.493      0.013     -33.277      -3.985\n",
      "educ            2.5974      0.570      4.559      0.000       1.481       3.714\n",
      "female         12.7693      7.906      1.615      0.106      -2.726      28.265\n",
      "educ:female    -1.3279      0.601     -2.210      0.027      -2.506      -0.150\n",
      "==============================================================================\n",
      "Omnibus:                      601.899   Durbin-Watson:                   1.518\n",
      "Prob(Omnibus):                  0.000   Jarque-Bera (JB):            19908.763\n",
      "Skew:                           3.914   Prob(JB):                         0.00\n",
      "Kurtosis:                      28.449   Cond. No.                         285.\n",
      "==============================================================================\n",
      "\n",
      "Warnings:\n",
      "[1] Standard Errors are heteroscedasticity robust (HC1)\n"
     ]
    }
   ],
   "source": [
    "model_f2 = smf.ols(formula = \"hrwage ~ educ + female + educ:female\", data = df)\n",
    "results_f2 = model_f2.fit(cov_type = 'HC1')\n",
    "print(results_f2.summary())"
   ]
  },
  {
   "cell_type": "markdown",
   "metadata": {},
   "source": [
    "**Comments**:\n",
    "  - In the codes above `smf.ols(formula = \"hrwage ~ educ + female + educ:female\", data = df)`:\n",
    "    - We didn't create a new variable in the dataset.\n",
    "    - Notice that inside the formula, we include the term `educ:female`. The colon symbol `:` in the formula serves as the multiplication.\n",
    "\n",
    "Compare the regression outputs from these two methods, they are entirely equivalent.\n",
    "\n",
    "**Bonus Question**: How would you interpret the regression coefficient on the interaction term?"
   ]
  },
  {
   "cell_type": "markdown",
   "metadata": {},
   "source": [
    "### Visualization\n",
    "\n",
    "We can also visualize this in a single plot:"
   ]
  },
  {
   "cell_type": "code",
   "execution_count": 32,
   "metadata": {},
   "outputs": [
    {
     "data": {
      "image/png": "[encoded data removed]",
      "text/plain": [
       "<Figure size 405.725x360 with 1 Axes>"
      ]
     },
     "metadata": {},
     "output_type": "display_data"
    }
   ],
   "source": [
    "sns.lmplot(x=\"educ\", y=\"hrwage\", hue = \"female\", ci= None, data=df)\n",
    "plt.xlabel('years of education')\n",
    "plt.ylabel('hourly wage')\n",
    "plt.title('Gender Wage Differential')\n",
    "plt.show()"
   ]
  },
  {
   "cell_type": "markdown",
   "metadata": {},
   "source": [
    " - In the code `sns.lmplot(x=\"educ\", y=\"hrwage\", hue=\"female\", ci= None, data=df)`:\n",
    "  \n",
    "    - `sns` is calling on the library `seaborn`, and `sns` is the nickname we gave when we loaded the libraries.\n",
    "    - `sns.lmplot()` is calling the function `lmplot()` that comes with the seaborn. \n",
    "    - Inside the parentheses of `lmplot()`:\n",
    "    \n",
    "       - `x=\"educ\"` specifies the variable on the x-axis\n",
    "       \n",
    "       - `y=\"hrwage\"` specifies the variable on the y-axis\n",
    "       \n",
    "       - `hue = \"female\"` asks the python to creates separate plot based on the value of the variable `female`\n",
    "       \n",
    "       - `ci = None` to indicate that we don't want the confidence bands around the regression line\n",
    "       \n",
    "       - `data = df` to indicate `df` is the dataset we are using\n",
    "       \n",
    "Does the graph match the regression results?"
   ]
  },
  {
   "cell_type": "markdown",
   "metadata": {},
   "source": [
    "## Joint Hypothesis Testing\n",
    "\n",
    "Recall our regression model\n",
    "\n",
    "$$\n",
    "Y_i = \\beta_0 + \\beta_1 X_{1i} + \\beta_2 X_{2i} + \\cdots + \\beta_k X_{ki} + u_i\n",
    "$$\n",
    "\n",
    "and we are interested in testing joint hypotheses, for example:\n",
    "\n",
    "  - $ H_0: \\beta_0 = \\beta_1 = \\beta_2 = \\cdots = \\beta_k = 0 $  vs.  $ H_1:~\\text{at least one of the}~\\beta_j\\neq 0$\n",
    "  \n",
    "  - $ H_0: \\beta_2 = \\beta_3 $  vs.  $H_1: \\beta_2 \\neq\\beta_3$\n",
    "  \n",
    "  - $ H_0: \\beta_1 = 2, \\beta_2 = 3, \\beta_3 = 5 $  vs. $H_1:~\\text{at least one of the contraint in null is false}$\n",
    "  \n",
    "How do we test hypothesis like this in Python? Luckily we have a well written package from stats models. We made up an example below to show you how to test such hypothesis.\n",
    "\n",
    "Suppose we want to run the following specification:\n",
    "\n",
    "$$\n",
    "\\text{log wage} = \\beta_0 + \\beta_1 \\text{educ} + \\beta_2 \\text{potential experience} + \\beta_3 (\\text{potential experience})^2 + \\beta_4 \\text{female} + \\beta_5 \\text{white}  + \\text{residual}\n",
    "$$\n",
    "\n",
    "and we want to test the hypotheses: $H_0: \\beta_1 = 0, \\beta_2 = 2, \\beta_4 = \\beta_5$  vs.  $H_1:~\\text{at least one of the contraint in null is false}$.\n"
   ]
  },
  {
   "cell_type": "code",
   "execution_count": 33,
   "metadata": {},
   "outputs": [
    {
     "name": "stdout",
     "output_type": "stream",
     "text": [
      "<F test: F=array([[42246.69900786]]), p=0.0, df_denom=668, df_num=3>\n"
     ]
    }
   ],
   "source": [
    "model_f = smf.ols(formula = \"logwage ~ educ + pexp + pexp2 + female + white\", data = df)\n",
    "results_f = model_f.fit(cov_type = 'HC1')\n",
    "hypotheses = '(educ = 0), (pexp = 2), (female = white)'\n",
    "ftest = results_f.f_test(hypotheses)\n",
    "print(ftest)"
   ]
  },
  {
   "cell_type": "markdown",
   "metadata": {},
   "source": [
    "**Comments**:\n",
    "  - The first two lines of the code is the standard multiple regression code:  \n",
    "     - Recall that `results_f` is the name we assign to the final object from our regression code. It contains all the information of that regression. \n",
    "    - As we mentioned before, `results_f` has many attributes. You have seen `results.summary()`, `results.params`, and `results.resid` that give the summary of the regression, the regression coefficients, and the regression residuals respectively.  \n",
    "    - Similarly, the `results_f` has the function `f_test`, which will serve the exact purpose of testing joint hypotheses.\n",
    "\n",
    "\n",
    "  - In the line `hypotheses = '(educ = 0), (pexp = 2), (female = white)'`, we specify our null hypotheses:\n",
    "    - `(educ = 0)` means the coefficient on `educ` is $0$, i.e. $\\beta_1 = 0$\n",
    "    - `(pexp = 2)` means the coefficient on `pexp` is $2$, i.e. $\\beta_2 = 2$\n",
    "    - `(female = white)` means the coefficient on `female` and coefficient on `white` are the same, i.e. $\\beta_4=\\beta_5$\n",
    "    - Together, we separate them by coma `,`, put them in quotation `' '`, and asign this to the name `hypotheses`. \n",
    "\n",
    "\n",
    "  - In the line `ftest = results_f.f_test(hypotheses)`:\n",
    "    - we feed the `hypotheses` we just created to the function `results_f.f_test()`\n",
    "    - This will generate the f-test on the null hypotheses, and we store that results to the name `ftest`\n",
    "\n",
    "\n",
    "  - In the line `print(ftest)`\n",
    "    - we print the result of the f-test. You should focus on the `p`, which is the p-value.\n",
    "    - We reject the null hypothesis if the p-value is smaller than the significance level. For example, if the significance level is given as 1%, you would reject null at 1% significance level since p = 0 < 1%."
   ]
  },
  {
   "cell_type": "markdown",
   "metadata": {},
   "source": [
    "### White Test for Heteroskedasticity\n",
    "\n",
    "Suppose we want to do a White test for heteroskedasticity for the following regression:\n",
    "\n",
    "$$\n",
    "\\text{log wage}_i = \\beta_0 + \\beta_1 \\text{educ}_i + \\beta_2 \\text{potential experience}_i  + u_i\n",
    "$$\n"
   ]
  },
  {
   "cell_type": "markdown",
   "metadata": {},
   "source": [
    "Step 1: Run the main regression, and save squared residuals"
   ]
  },
  {
   "cell_type": "code",
   "execution_count": 34,
   "metadata": {},
   "outputs": [
    {
     "data": {
      "text/html": [
       "<div>\n",
       "<style scoped>\n",
       "    .dataframe tbody tr th:only-of-type {\n",
       "        vertical-align: middle;\n",
       "    }\n",
       "\n",
       "    .dataframe tbody tr th {\n",
       "        vertical-align: top;\n",
       "    }\n",
       "\n",
       "    .dataframe thead th {\n",
       "        text-align: right;\n",
       "    }\n",
       "</style>\n",
       "<table border=\"1\" class=\"dataframe\">\n",
       "  <thead>\n",
       "    <tr style=\"text-align: right;\">\n",
       "      <th></th>\n",
       "      <th>first</th>\n",
       "      <th>educ</th>\n",
       "      <th>educt</th>\n",
       "      <th>hrwage</th>\n",
       "      <th>lwage</th>\n",
       "      <th>age</th>\n",
       "      <th>white</th>\n",
       "      <th>female</th>\n",
       "      <th>educt_t</th>\n",
       "      <th>age2</th>\n",
       "      <th>dlwage</th>\n",
       "      <th>deduc</th>\n",
       "      <th>deduct</th>\n",
       "      <th>resid</th>\n",
       "      <th>logwage</th>\n",
       "      <th>pexp</th>\n",
       "      <th>pexp2</th>\n",
       "      <th>educ_f</th>\n",
       "      <th>resid2</th>\n",
       "    </tr>\n",
       "  </thead>\n",
       "  <tbody>\n",
       "    <tr>\n",
       "      <th>0</th>\n",
       "      <td>1.0</td>\n",
       "      <td>16.0</td>\n",
       "      <td>16.0</td>\n",
       "      <td>11.935573</td>\n",
       "      <td>2.479523</td>\n",
       "      <td>33.251190</td>\n",
       "      <td>1</td>\n",
       "      <td>1</td>\n",
       "      <td>16.0</td>\n",
       "      <td>1105.64160</td>\n",
       "      <td>0.259346</td>\n",
       "      <td>0.0</td>\n",
       "      <td>0.0</td>\n",
       "      <td>-6.295527</td>\n",
       "      <td>2.479523</td>\n",
       "      <td>10.251190</td>\n",
       "      <td>105.086896</td>\n",
       "      <td>16.0</td>\n",
       "      <td>0.013168</td>\n",
       "    </tr>\n",
       "    <tr>\n",
       "      <th>1</th>\n",
       "      <td>NaN</td>\n",
       "      <td>16.0</td>\n",
       "      <td>16.0</td>\n",
       "      <td>9.208958</td>\n",
       "      <td>2.220177</td>\n",
       "      <td>33.251190</td>\n",
       "      <td>1</td>\n",
       "      <td>1</td>\n",
       "      <td>16.0</td>\n",
       "      <td>1105.64160</td>\n",
       "      <td>-0.259346</td>\n",
       "      <td>0.0</td>\n",
       "      <td>0.0</td>\n",
       "      <td>-9.022142</td>\n",
       "      <td>2.220177</td>\n",
       "      <td>10.251190</td>\n",
       "      <td>105.086896</td>\n",
       "      <td>16.0</td>\n",
       "      <td>0.139950</td>\n",
       "    </tr>\n",
       "    <tr>\n",
       "      <th>2</th>\n",
       "      <td>NaN</td>\n",
       "      <td>12.0</td>\n",
       "      <td>16.0</td>\n",
       "      <td>9.283223</td>\n",
       "      <td>2.228209</td>\n",
       "      <td>43.570145</td>\n",
       "      <td>1</td>\n",
       "      <td>1</td>\n",
       "      <td>12.0</td>\n",
       "      <td>1898.35750</td>\n",
       "      <td>-0.721318</td>\n",
       "      <td>-6.0</td>\n",
       "      <td>-4.0</td>\n",
       "      <td>-1.241281</td>\n",
       "      <td>2.228209</td>\n",
       "      <td>24.570145</td>\n",
       "      <td>603.692025</td>\n",
       "      <td>12.0</td>\n",
       "      <td>0.005237</td>\n",
       "    </tr>\n",
       "    <tr>\n",
       "      <th>3</th>\n",
       "      <td>1.0</td>\n",
       "      <td>18.0</td>\n",
       "      <td>12.0</td>\n",
       "      <td>19.096916</td>\n",
       "      <td>2.949527</td>\n",
       "      <td>43.570145</td>\n",
       "      <td>1</td>\n",
       "      <td>1</td>\n",
       "      <td>16.0</td>\n",
       "      <td>1898.35750</td>\n",
       "      <td>0.721318</td>\n",
       "      <td>6.0</td>\n",
       "      <td>4.0</td>\n",
       "      <td>-2.987481</td>\n",
       "      <td>2.949527</td>\n",
       "      <td>18.570145</td>\n",
       "      <td>344.850285</td>\n",
       "      <td>18.0</td>\n",
       "      <td>0.003508</td>\n",
       "    </tr>\n",
       "    <tr>\n",
       "      <th>4</th>\n",
       "      <td>NaN</td>\n",
       "      <td>12.0</td>\n",
       "      <td>12.0</td>\n",
       "      <td>15.447336</td>\n",
       "      <td>2.728481</td>\n",
       "      <td>30.983910</td>\n",
       "      <td>1</td>\n",
       "      <td>0</td>\n",
       "      <td>12.0</td>\n",
       "      <td>960.00262</td>\n",
       "      <td>-0.129809</td>\n",
       "      <td>0.0</td>\n",
       "      <td>0.0</td>\n",
       "      <td>4.922832</td>\n",
       "      <td>2.737437</td>\n",
       "      <td>11.983910</td>\n",
       "      <td>143.614099</td>\n",
       "      <td>0.0</td>\n",
       "      <td>0.428348</td>\n",
       "    </tr>\n",
       "  </tbody>\n",
       "</table>\n",
       "</div>"
      ],
      "text/plain": [
       "   first  educ  educt     hrwage     lwage        age  white  female  educt_t  \\\n",
       "0    1.0  16.0   16.0  11.935573  2.479523  33.251190      1       1     16.0   \n",
       "1    NaN  16.0   16.0   9.208958  2.220177  33.251190      1       1     16.0   \n",
       "2    NaN  12.0   16.0   9.283223  2.228209  43.570145      1       1     12.0   \n",
       "3    1.0  18.0   12.0  19.096916  2.949527  43.570145      1       1     16.0   \n",
       "4    NaN  12.0   12.0  15.447336  2.728481  30.983910      1       0     12.0   \n",
       "\n",
       "         age2    dlwage  deduc  deduct     resid   logwage       pexp  \\\n",
       "0  1105.64160  0.259346    0.0     0.0 -6.295527  2.479523  10.251190   \n",
       "1  1105.64160 -0.259346    0.0     0.0 -9.022142  2.220177  10.251190   \n",
       "2  1898.35750 -0.721318   -6.0    -4.0 -1.241281  2.228209  24.570145   \n",
       "3  1898.35750  0.721318    6.0     4.0 -2.987481  2.949527  18.570145   \n",
       "4   960.00262 -0.129809    0.0     0.0  4.922832  2.737437  11.983910   \n",
       "\n",
       "        pexp2  educ_f    resid2  \n",
       "0  105.086896    16.0  0.013168  \n",
       "1  105.086896    16.0  0.139950  \n",
       "2  603.692025    12.0  0.005237  \n",
       "3  344.850285    18.0  0.003508  \n",
       "4  143.614099     0.0  0.428348  "
      ]
     },
     "execution_count": 34,
     "metadata": {},
     "output_type": "execute_result"
    }
   ],
   "source": [
    "model_w = smf.ols(formula = \"logwage ~ educ + pexp\", data = df)\n",
    "results_w = model_w.fit(cov_type = 'HC1')\n",
    "df['resid2'] = (results_w.resid)**2\n",
    "df.head()"
   ]
  },
  {
   "cell_type": "markdown",
   "metadata": {},
   "source": [
    "**Comments**:\n",
    "  - The first two lines of codes are standard for multiple regression, which we have seen many times\n",
    "  - the third line creates a new column `resid2` in the dataset `df`, whose values are squared residuals from the regression\n",
    "    - in the code `(results_w.resid)**2`:\n",
    "      - `results_w.resid` is a column of all the residuals from the regression\n",
    "      - `**2` squares the values in `results_w.resid` "
   ]
  },
  {
   "cell_type": "markdown",
   "metadata": {},
   "source": [
    "Step 2: Run the auxiliary regression\n",
    "\n",
    "$$\n",
    "u^2_i = \\alpha_0 + \\alpha_1 \\text{educ}_i + \\alpha_2 \\text{potential experience}_i + \\alpha_3\\text{educ}^2_i  +  \\alpha_4 \\text{potential experience}^2_i + \\alpha_5 (\\text{potential experience}_i\\times \\text{educ}_i) + e_i\n",
    "$$\n",
    "\n",
    "That is regress the squared residual on the regressors from the main regression, the squared regressors, and interaction of the regressors.\n",
    "\n",
    "We want to do a F-test on the null hypothesis that $H_0: \\alpha_1 = \\alpha_2 = ... =  \\alpha_5 = 0 $. If the null is rejected, we conclude that the heteroskedasticity is present."
   ]
  },
  {
   "cell_type": "code",
   "execution_count": 35,
   "metadata": {},
   "outputs": [
    {
     "name": "stdout",
     "output_type": "stream",
     "text": [
      "<F test: F=array([[3.41338605]]), p=0.004712653753891873, df_denom=668, df_num=5>\n"
     ]
    }
   ],
   "source": [
    "df['educ2'] = (df['educ'])**2\n",
    "df['pexp_educ'] = (df['pexp'])*(df['educ'])\n",
    "model_aux = smf.ols(formula = \"resid2 ~ educ + pexp + educ2 + pexp2 + pexp_educ\", data = df)\n",
    "results_aux = model_aux.fit(cov_type = 'HC1')\n",
    "hypotheses = '(educ = 0), (pexp = 0), (educ2=0), (pexp2=0), (pexp_educ=0)'\n",
    "ftest = results_aux.f_test(hypotheses)\n",
    "print(ftest)"
   ]
  },
  {
   "cell_type": "markdown",
   "metadata": {},
   "source": [
    "**Comments**:\n",
    "\n",
    "  - `df['educ2'] = (df['educ'])**2` creates a new column of squared `educ` in the dataset `df`\n",
    "  - `df['pexp_educ'] = (df['pexp'])*(df['educ'])` creates a new column of interaction of `educ` and `pexp` in the dataset `df`\n",
    "  - `hypotheses = '(educ = 0), (pexp = 0), (educ2=0), (pexp2=0), (pexp_educ=0)'` specifies the null hypothesis that $H_0: \\alpha_1 = \\alpha_2 = ... =  \\alpha_5 = 0 $.\n",
    "  - `ftest = results_aux.f_test(hypotheses)` conducts the f-test on the hypothesis specified.\n",
    "  - `print(ftest)` prints the results of the f-test.\n",
    "\n",
    "From the results of F-test, we see that the p-value $p = 0.004$, which is less than $1\\%$, so we can reject the null at $1\\%$ significance level, and conclude that the heteroskedasticity is present."
   ]
  },
  {
   "cell_type": "markdown",
   "metadata": {},
   "source": [
    "## Difference in Differences "
   ]
  },
  {
   "cell_type": "markdown",
   "metadata": {},
   "source": [
    "### Card and Krueger 1994 (Minimum Wage)\n",
    "\n",
    "In their famous 1994 minimum wage study, Card and Krueger compared the employment rates in fastfood restaurants in New Jersey and Pennsylvania before and after a minimum wage increase in New Jersey (while there's no such change in Penn). Their results suggest that, contrary to the predicition of the textbook model on minimum wage, the exogenous increase in minimum wage did not reduce the employment. Below, we are going to \"replicate\" this study using their original dataset, modified for simplicity.  \n",
    "\n",
    "In the `did` dataset:\n",
    "\n",
    "  - `d` is a binary variable such that: `d = 0` if before New Jersey minimum wage increase, and `d = 1` if after New Jersey minimum wage increase.\n",
    "  \n",
    "  - `nj` is a binary variable such that: `nj = 1` if the respondent is in New Jersey, and `nj = 0` if in Penn\n",
    "  \n",
    "  - `fte` is the \"full-time equivalent employment\"\n",
    "  \n",
    "  - `d_nj` is the interaction variable `d * nj`\n",
    "  \n",
    "We run the baseline regression\n",
    "\n",
    "$$ \\text{fte}_i = \\beta_0 + \\beta_1 \\text{d}_i + \\beta_2 \\text{nj}_i + \\beta_3\\text{d_nj}_i + u_i$$\n",
    "\n",
    "As we showed in lecture, $\\beta_3$ is the treatment effect. The we can also include control variables in the DiD model. In the data, we have the following binary variables as controls\n",
    "\n",
    "  - bk           = 1 if burger king\n",
    "  - kfc          = 1 if kentucky fried chicken\n",
    "  - roys         = 1 if roy rodgers\n",
    "  - wendys       = 1 if wendys\n",
    "  - co_owned     = 1 if company owned\n",
    "  - centralj     = 1 if in central nj\n",
    "  - southj       = 1 if in southern nj\n",
    "  - pa1          = 1 if in pa, northeast suburbs of phila\n",
    "  - pa2          = 1 if in pa, easton etc\n",
    "  \n",
    "Note that each fast food restaurant can only belong to one location (centralj, southj, pa1, pa2) and one brand (bk, kfc, roys, wendys) "
   ]
  },
  {
   "cell_type": "code",
   "execution_count": 36,
   "metadata": {},
   "outputs": [
    {
     "data": {
      "text/html": [
       "<div>\n",
       "<style scoped>\n",
       "    .dataframe tbody tr th:only-of-type {\n",
       "        vertical-align: middle;\n",
       "    }\n",
       "\n",
       "    .dataframe tbody tr th {\n",
       "        vertical-align: top;\n",
       "    }\n",
       "\n",
       "    .dataframe thead th {\n",
       "        text-align: right;\n",
       "    }\n",
       "</style>\n",
       "<table border=\"1\" class=\"dataframe\">\n",
       "  <thead>\n",
       "    <tr style=\"text-align: right;\">\n",
       "      <th></th>\n",
       "      <th>CO_OWNED</th>\n",
       "      <th>SOUTHJ</th>\n",
       "      <th>CENTRALJ</th>\n",
       "      <th>PA1</th>\n",
       "      <th>PA2</th>\n",
       "      <th>DEMP</th>\n",
       "      <th>nj</th>\n",
       "      <th>bk</th>\n",
       "      <th>kfc</th>\n",
       "      <th>roys</th>\n",
       "      <th>wendys</th>\n",
       "      <th>d</th>\n",
       "      <th>d_nj</th>\n",
       "      <th>fte</th>\n",
       "    </tr>\n",
       "  </thead>\n",
       "  <tbody>\n",
       "    <tr>\n",
       "      <th>0</th>\n",
       "      <td>0</td>\n",
       "      <td>0</td>\n",
       "      <td>1</td>\n",
       "      <td>0</td>\n",
       "      <td>0</td>\n",
       "      <td>12.00</td>\n",
       "      <td>1</td>\n",
       "      <td>1</td>\n",
       "      <td>0</td>\n",
       "      <td>0</td>\n",
       "      <td>0</td>\n",
       "      <td>0</td>\n",
       "      <td>0</td>\n",
       "      <td>15.00</td>\n",
       "    </tr>\n",
       "    <tr>\n",
       "      <th>1</th>\n",
       "      <td>0</td>\n",
       "      <td>0</td>\n",
       "      <td>1</td>\n",
       "      <td>0</td>\n",
       "      <td>0</td>\n",
       "      <td>6.50</td>\n",
       "      <td>1</td>\n",
       "      <td>1</td>\n",
       "      <td>0</td>\n",
       "      <td>0</td>\n",
       "      <td>0</td>\n",
       "      <td>0</td>\n",
       "      <td>0</td>\n",
       "      <td>15.00</td>\n",
       "    </tr>\n",
       "    <tr>\n",
       "      <th>2</th>\n",
       "      <td>0</td>\n",
       "      <td>0</td>\n",
       "      <td>1</td>\n",
       "      <td>0</td>\n",
       "      <td>0</td>\n",
       "      <td>-1.00</td>\n",
       "      <td>1</td>\n",
       "      <td>0</td>\n",
       "      <td>0</td>\n",
       "      <td>1</td>\n",
       "      <td>0</td>\n",
       "      <td>0</td>\n",
       "      <td>0</td>\n",
       "      <td>24.00</td>\n",
       "    </tr>\n",
       "    <tr>\n",
       "      <th>3</th>\n",
       "      <td>1</td>\n",
       "      <td>0</td>\n",
       "      <td>0</td>\n",
       "      <td>0</td>\n",
       "      <td>0</td>\n",
       "      <td>2.25</td>\n",
       "      <td>1</td>\n",
       "      <td>0</td>\n",
       "      <td>0</td>\n",
       "      <td>1</td>\n",
       "      <td>0</td>\n",
       "      <td>0</td>\n",
       "      <td>0</td>\n",
       "      <td>19.25</td>\n",
       "    </tr>\n",
       "    <tr>\n",
       "      <th>4</th>\n",
       "      <td>0</td>\n",
       "      <td>0</td>\n",
       "      <td>0</td>\n",
       "      <td>0</td>\n",
       "      <td>0</td>\n",
       "      <td>13.00</td>\n",
       "      <td>1</td>\n",
       "      <td>1</td>\n",
       "      <td>0</td>\n",
       "      <td>0</td>\n",
       "      <td>0</td>\n",
       "      <td>0</td>\n",
       "      <td>0</td>\n",
       "      <td>21.50</td>\n",
       "    </tr>\n",
       "  </tbody>\n",
       "</table>\n",
       "</div>"
      ],
      "text/plain": [
       "   CO_OWNED  SOUTHJ  CENTRALJ  PA1  PA2   DEMP  nj  bk  kfc  roys  wendys  d  \\\n",
       "0         0       0         1    0    0  12.00   1   1    0     0       0  0   \n",
       "1         0       0         1    0    0   6.50   1   1    0     0       0  0   \n",
       "2         0       0         1    0    0  -1.00   1   0    0     1       0  0   \n",
       "3         1       0         0    0    0   2.25   1   0    0     1       0  0   \n",
       "4         0       0         0    0    0  13.00   1   1    0     0       0  0   \n",
       "\n",
       "   d_nj    fte  \n",
       "0     0  15.00  \n",
       "1     0  15.00  \n",
       "2     0  24.00  \n",
       "3     0  19.25  \n",
       "4     0  21.50  "
      ]
     },
     "execution_count": 36,
     "metadata": {},
     "output_type": "execute_result"
    }
   ],
   "source": [
    "did = pd.read_csv(\"did.csv\")\n",
    "did.head()"
   ]
  },
  {
   "cell_type": "code",
   "execution_count": 37,
   "metadata": {},
   "outputs": [
    {
     "name": "stdout",
     "output_type": "stream",
     "text": [
      "                            OLS Regression Results                            \n",
      "==============================================================================\n",
      "Dep. Variable:                    fte   R-squared:                       0.007\n",
      "Model:                            OLS   Adj. R-squared:                  0.004\n",
      "Method:                 Least Squares   F-statistic:                     1.404\n",
      "Date:                Sun, 02 Aug 2020   Prob (F-statistic):              0.240\n",
      "Time:                        13:59:54   Log-Likelihood:                -2904.2\n",
      "No. Observations:                 794   AIC:                             5816.\n",
      "Df Residuals:                     790   BIC:                             5835.\n",
      "Df Model:                           3                                         \n",
      "Covariance Type:                  HC1                                         \n",
      "==============================================================================\n",
      "                 coef    std err          z      P>|z|      [0.025      0.975]\n",
      "------------------------------------------------------------------------------\n",
      "Intercept     23.3312      1.346     17.337      0.000      20.694      25.969\n",
      "d             -2.1656      1.641     -1.320      0.187      -5.382       1.051\n",
      "nj            -2.8918      1.439     -2.010      0.044      -5.712      -0.072\n",
      "d_nj           2.7536      1.795      1.534      0.125      -0.765       6.273\n",
      "==============================================================================\n",
      "Omnibus:                      218.742   Durbin-Watson:                   1.842\n",
      "Prob(Omnibus):                  0.000   Jarque-Bera (JB):              804.488\n",
      "Skew:                           1.268   Prob(JB):                    2.03e-175\n",
      "Kurtosis:                       7.229   Cond. No.                         11.3\n",
      "==============================================================================\n",
      "\n",
      "Warnings:\n",
      "[1] Standard Errors are heteroscedasticity robust (HC1)\n"
     ]
    }
   ],
   "source": [
    "did_model1 = smf.ols(formula = \"fte ~ d + nj + d_nj\", data = did)\n",
    "did_results1 = did_model1.fit(cov_type = 'HC1')\n",
    "print(did_results1.summary())"
   ]
  },
  {
   "cell_type": "code",
   "execution_count": 39,
   "metadata": {},
   "outputs": [
    {
     "name": "stdout",
     "output_type": "stream",
     "text": [
      "                            OLS Regression Results                            \n",
      "==============================================================================\n",
      "Dep. Variable:                    fte   R-squared:                       0.194\n",
      "Model:                            OLS   Adj. R-squared:                  0.188\n",
      "Method:                 Least Squares   F-statistic:                     56.02\n",
      "Date:                Sun, 02 Aug 2020   Prob (F-statistic):           1.18e-57\n",
      "Time:                        14:00:30   Log-Likelihood:                -2821.7\n",
      "No. Observations:                 794   AIC:                             5657.\n",
      "Df Residuals:                     787   BIC:                             5690.\n",
      "Df Model:                           6                                         \n",
      "Covariance Type:                  HC1                                         \n",
      "==============================================================================\n",
      "                 coef    std err          z      P>|z|      [0.025      0.975]\n",
      "------------------------------------------------------------------------------\n",
      "Intercept     25.7309      1.322     19.463      0.000      23.140      28.322\n",
      "d             -2.1946      1.432     -1.532      0.125      -5.002       0.613\n",
      "nj            -2.3205      1.272     -1.825      0.068      -4.813       0.172\n",
      "d_nj           2.8140      1.578      1.783      0.075      -0.279       5.907\n",
      "kfc          -10.8112      0.642    -16.830      0.000     -12.070      -9.552\n",
      "roys          -2.2518      0.847     -2.659      0.008      -3.912      -0.592\n",
      "wendys        -1.1176      0.973     -1.149      0.251      -3.024       0.789\n",
      "==============================================================================\n",
      "Omnibus:                      282.192   Durbin-Watson:                   1.963\n",
      "Prob(Omnibus):                  0.000   Jarque-Bera (JB):             1652.747\n",
      "Skew:                           1.489   Prob(JB):                         0.00\n",
      "Kurtosis:                       9.410   Cond. No.                         11.7\n",
      "==============================================================================\n",
      "\n",
      "Warnings:\n",
      "[1] Standard Errors are heteroscedasticity robust (HC1)\n"
     ]
    }
   ],
   "source": [
    "did_model2 = smf.ols(formula = \"fte ~ d + nj + d_nj + kfc + roys + wendys \", data = did)\n",
    "did_results2 = did_model2.fit(cov_type = 'HC1')\n",
    "print(did_results2.summary())"
   ]
  },
  {
   "cell_type": "markdown",
   "metadata": {},
   "source": [
    "**Bonus Question**: Why didn't we include Berger King `bk` in the regression?"
   ]
  }
 ],
 "metadata": {
  "kernelspec": {
   "display_name": "Python 3",
   "language": "python",
   "name": "python3"
  },
  "language_info": {
   "codemirror_mode": {
    "name": "ipython",
    "version": 3
   },
   "file_extension": ".py",
   "mimetype": "text/x-python",
   "name": "python",
   "nbconvert_exporter": "python",
   "pygments_lexer": "ipython3",
   "version": "3.8.8"
  },
  "toc": {
   "base_numbering": 1,
   "nav_menu": {},
   "number_sections": true,
   "sideBar": true,
   "skip_h1_title": false,
   "title_cell": "Table of Contents",
   "title_sidebar": "Contents",
   "toc_cell": false,
   "toc_position": {},
   "toc_section_display": true,
   "toc_window_display": false
  }
 },
 "nbformat": 4,
 "nbformat_minor": 4
}
